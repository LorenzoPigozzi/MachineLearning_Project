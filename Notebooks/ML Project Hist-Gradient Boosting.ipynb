{
 "cells": [
  {
   "cell_type": "markdown",
   "metadata": {},
   "source": [
    "# MACHINE LEARNING PROJECT\n",
    "\n",
    "## \"Class prediction for Newland Citizens\"\n",
    "\n",
    "Lorenzo Pigozzi   |\n",
    "Nova Ims   |\n",
    "Master in Data Science and Advanced Analytics"
   ]
  },
  {
   "source": [
    "## Index\n",
    "\n",
    "1. Importing the libraries and the train-set\n",
    "2. Features Engineering\n",
    "3. Encoding\n",
    "4. Missing values\n",
    "5. Split: train set and test set\n",
    "6. Outliers\n",
    "7. Index of the dataset\n",
    "8. Feature selection\n",
    "9. Modeling: Hist-Gradient Boosting\n",
    "10. Hyper-Parameters tuning\n",
    "11. Model assessment\n",
    "12. Prediction for Kaggle"
   ],
   "cell_type": "markdown",
   "metadata": {}
  },
  {
   "cell_type": "markdown",
   "metadata": {},
   "source": [
    "## 1. Importing the libraries and the train set data"
   ]
  },
  {
   "cell_type": "code",
   "execution_count": 21,
   "metadata": {},
   "outputs": [],
   "source": [
    "import pandas as pd\n",
    "import numpy as np\n",
    "import seaborn as sns\n",
    "import matplotlib.pyplot as plt\n",
    "\n",
    "from sklearn.model_selection import RepeatedStratifiedKFold\n",
    "from sklearn.model_selection import train_test_split\n",
    "from sklearn.preprocessing import OneHotEncoder\n",
    "from sklearn.preprocessing import MinMaxScaler\n",
    "from sklearn.linear_model import LogisticRegression\n",
    "from sklearn.metrics import confusion_matrix\n",
    "from sklearn.metrics import accuracy_score\n",
    "from sklearn.neural_network import MLPClassifier\n",
    "from sklearn.metrics import classification_report\n",
    "from sklearn.feature_selection import RFE\n",
    "from sklearn.metrics import f1_score\n",
    "from sklearn.decomposition import PCA\n",
    "from sklearn.preprocessing import RobustScaler\n",
    "from sklearn.preprocessing import StandardScaler\n",
    "from sklearn.feature_selection import mutual_info_classif\n",
    "from sklearn.impute import KNNImputer\n",
    "from sklearn.model_selection import GridSearchCV\n",
    "\n",
    "# Algorithms\n",
    "from sklearn import linear_model\n",
    "from sklearn.linear_model import LogisticRegression\n",
    "from sklearn.ensemble import RandomForestClassifier\n",
    "from sklearn.linear_model import Perceptron\n",
    "from sklearn.linear_model import SGDClassifier\n",
    "from sklearn.tree import DecisionTreeClassifier\n",
    "from sklearn.neighbors import KNeighborsClassifier\n",
    "from sklearn.svm import SVC, LinearSVC\n",
    "from sklearn.naive_bayes import GaussianNB\n",
    "from sklearn.ensemble import GradientBoostingClassifier\n",
    "from sklearn.ensemble import BaggingClassifier\n",
    "from sklearn.ensemble import AdaBoostClassifier\n",
    "from sklearn.ensemble import VotingClassifier\n",
    "from sklearn.ensemble import StackingClassifier\n",
    "\n",
    "from sklearn.experimental import enable_hist_gradient_boosting  \n",
    "from sklearn.ensemble import HistGradientBoostingClassifier\n",
    "\n",
    "from sklearn.model_selection import cross_val_score\n",
    "from sklearn.model_selection import StratifiedKFold\n",
    "from sklearn.preprocessing import OrdinalEncoder\n",
    "\n",
    "from sklearn.model_selection import KFold\n",
    "import time\n",
    "import pandas as pd\n",
    "from sklearn.model_selection import train_test_split\n",
    "from sklearn.tree import DecisionTreeClassifier\n",
    "import numpy as np\n",
    "import matplotlib.pyplot as plt\n",
    "from sklearn.metrics import classification_report\n",
    "\n",
    "# Setting the theme for the plots\n",
    "sns.set_theme()"
   ]
  },
  {
   "cell_type": "code",
   "execution_count": 22,
   "metadata": {},
   "outputs": [],
   "source": [
    "def avg_score(model):\n",
    "    # apply kfold\n",
    "    kf = KFold(n_splits=10)\n",
    "    # create lists to store the results from the different models \n",
    "    score_train = []\n",
    "    score_test = []\n",
    "    timer = []\n",
    "    for train_index, test_index in kf.split(data):\n",
    "        # get the indexes of the observations assigned for each partition\n",
    "        X_train, X_test = data.iloc[train_index], data.iloc[test_index]\n",
    "        y_train, y_test = target.iloc[train_index], target.iloc[test_index]\n",
    "        # start counting time\n",
    "        begin = time.perf_counter()\n",
    "        # fit the model to the data\n",
    "        model.fit(X_train, y_train)\n",
    "        # finish counting time\n",
    "        end = time.perf_counter()\n",
    "        # check the mean accuracy for the train\n",
    "        value_train = model.score(X_train, y_train)\n",
    "        # check the mean accuracy for the test\n",
    "        value_test = model.score(X_test,y_test)\n",
    "        # append the accuracies, the time and the number of iterations in the corresponding list\n",
    "        score_train.append(value_train)\n",
    "        score_test.append(value_test)\n",
    "        timer.append(end-begin)\n",
    "    # calculate the average and the std for each measure (accuracy, time and number of iterations)\n",
    "    avg_time = round(np.mean(timer),3)\n",
    "    avg_train = round(np.mean(score_train),3)\n",
    "    avg_test = round(np.mean(score_test),3)\n",
    "    std_time = round(np.std(timer),2)\n",
    "    std_train = round(np.std(score_train),2)\n",
    "    std_test = round(np.std(score_test),2)\n",
    "    \n",
    "    return str(avg_time) + '+/-' + str(std_time), str(avg_train) + '+/-' + str(std_train),\\\n",
    "str(avg_test) + '+/-' + str(std_test)\n",
    "\n",
    "def show_results(df, *args):\n",
    "    \"\"\"\n",
    "    Receive an empty dataframe and the different models and call the function avg_score\n",
    "    \"\"\"\n",
    "    count = 0\n",
    "    # for each model passed as argument\n",
    "    for arg in args:\n",
    "        # obtain the results provided by avg_score\n",
    "        time, avg_train, avg_test = avg_score(arg)\n",
    "        # store the results in the right row\n",
    "        df.iloc[count] = time, avg_train, avg_test\n",
    "        count+=1\n",
    "    return df\n",
    "\n",
    "from sklearn.metrics import f1_score\n",
    "import matplotlib.pyplot as plt\n",
    "from matplotlib.legend_handler import HandlerLine2D\n",
    "\n",
    "def calculate_f1(interval, x_train, x_test, y_train, y_test, parameter):\n",
    "    train_results = []\n",
    "    test_results = []\n",
    "    for value in interval:\n",
    "        if parameter == 'Number of estimators':\n",
    "            dt =  HistGradientBoostingClassifier(loss = 'auto', max_leaf_nodes = 20, min_samples_leaf = 7, max_bins = 200, max_iter=value)\n",
    "        elif parameter == 'Learning Rate':\n",
    "            dt = HistGradientBoostingClassifier(loss = 'auto', max_leaf_nodes = 20, min_samples_leaf = 7, max_bins = 200, learning_rate= value)\n",
    "        dt.fit(x_train, y_train)\n",
    "        train_results.append(f1_score(y_train,dt.predict(x_train)))\n",
    "        test_results.append(f1_score(y_test,dt.predict(x_test)))\n",
    "    value_train = train_results.index(max(train_results))\n",
    "    value_test = test_results.index(max(test_results))\n",
    "    print('The best train value is ',interval[value_train])\n",
    "    print('The best test value is ',interval[value_test])\n",
    "\n",
    "    fig = plt.figure(figsize = (16,10))\n",
    "    line1, = plt.plot(interval, train_results, '#515C60', label=\"Train F1\", linewidth=3)\n",
    "    line2, = plt.plot(interval, test_results, '#C7DC1F', label=\"Test F1\", linewidth=3)\n",
    "    plt.legend(handler_map={line1: HandlerLine2D(numpoints=2)})\n",
    "    plt.ylabel(\"F1 score\")\n",
    "    plt.xlabel(str(parameter))\n",
    "    plt.show()\n",
    "    \n",
    "def metrics(y_model1, pred_model1, y_model2, pred_model2):\n",
    "    print('___________________________________________________________________________________________________________')\n",
    "    print('                                              Model 1                                                      ')\n",
    "    print('-----------------------------------------------------------------------------------------------------------')\n",
    "    print(classification_report(y_model1, pred_model1))\n",
    "\n",
    "\n",
    "    print('___________________________________________________________________________________________________________')\n",
    "    print('                                              Model 2                                                      ')\n",
    "    print('-----------------------------------------------------------------------------------------------------------')\n",
    "    print(classification_report(y_model2, pred_model2))\n",
    "    "
   ]
  },
  {
   "cell_type": "code",
   "execution_count": 23,
   "metadata": {},
   "outputs": [],
   "source": [
    "def run_model(model,X,y):\n",
    "    model = model.fit(X,y)\n",
    "    return model\n",
    "\n",
    "\n",
    "\n",
    "def evaluate_model(X,y, model):\n",
    "    return model.score(X,y)\n",
    "\n",
    "\n",
    "def avg_score(model, method,X,y):\n",
    "    score_train = []\n",
    "    score_test = []\n",
    "    for train_index, test_index in method.split(X, Y):\n",
    "        X_train, X_test = X.iloc[train_index], X.iloc[test_index]\n",
    "        y_train, y_test = y.iloc[train_index], y.iloc[test_index]\n",
    "        model = run_model(model, X_train, y_train)\n",
    "        value_train = evaluate_model(X_train, y_train, model)\n",
    "        value_test = evaluate_model(X_test,y_test, model)\n",
    "        score_train.append(value_train)\n",
    "        score_test.append(value_test)\n",
    "\n",
    "    print('Train:', np.mean(score_train))\n",
    "    print('Test:', np.mean(score_test))"
   ]
  },
  {
   "cell_type": "markdown",
   "metadata": {},
   "source": [
    "Importing data"
   ]
  },
  {
   "cell_type": "code",
   "execution_count": 24,
   "metadata": {},
   "outputs": [],
   "source": [
    "# Importing the file into a pandas dataframe\n",
    "newland = pd.read_excel('Train.xlsx')\n",
    "\n",
    "# defining metric and non-metric features\n",
    "metric_features = ['Years of Education','Working Hours per week','Money Received','Ticket Price','Income']\n",
    "non_metric_features = ['Name','Birthday','Native Continent','Marital Status','Lives with','Base Area','Education Level','Employment Sector','Role']"
   ]
  },
  {
   "cell_type": "markdown",
   "metadata": {},
   "source": [
    "## 2. Features engineering"
   ]
  },
  {
   "cell_type": "code",
   "execution_count": 25,
   "metadata": {},
   "outputs": [],
   "source": [
    "#gender\n",
    "newland['Gender'] = newland['Name'].str.split(n=2,expand=True).rename(columns={0:'Gender'}).drop(columns=[1,2])\n",
    "\n",
    "newland['Gender'].value_counts()\n",
    "\n",
    "newland['Gender'] = newland['Gender'].replace('Mr.', 0)\n",
    "newland['Gender'] = newland['Gender'].replace('Mrs.', 1)\n",
    "newland['Gender'] = newland['Gender'].replace('Miss', 1)\n",
    "\n",
    "# Age\n",
    "newland['year_of_birth'] = newland['Birthday'].map(lambda x: int(x[-4:]))\n",
    "newland['Age'] = newland['year_of_birth'].map(lambda x: 2048 - x)\n",
    "del newland['year_of_birth']\n",
    "\n",
    "# deleting the variables Name and Birthday, they are not directly relevant to predict the target\n",
    "del newland['Name']\n",
    "del newland['Birthday']"
   ]
  },
  {
   "source": [
    "## 3. Encoding"
   ],
   "cell_type": "markdown",
   "metadata": {}
  },
  {
   "cell_type": "markdown",
   "metadata": {},
   "source": [
    "Encoding some variables manually"
   ]
  },
  {
   "cell_type": "code",
   "execution_count": 26,
   "metadata": {},
   "outputs": [],
   "source": [
    "# Creating a copy of the dataset\n",
    "newland_labels = newland.copy()\n",
    "\n",
    "# Encoding the variable Education Level manually (it will be numerical because it's categorical but ordinal)\n",
    "newland_labels['Education Level'] = newland_labels['Education Level'].replace(['Preschool',\n",
    "'Primary School',\n",
    "'Middle School - 1st Cycle',\n",
    "'Middle School - 2nd Cycle',\n",
    "'Middle School Complete',\n",
    "'High School - 1st Cycle',\n",
    "'High School - 2nd Cycle',\n",
    "'Professional School',\n",
    "'High School Complete',\n",
    "'Professional School + PostGraduation',\n",
    "'High School + PostGraduation',\n",
    "'Bachelors',\n",
    "'Bachelors + PostGraduation',\n",
    "'Masters',\n",
    "'Masters + PostGraduation',\n",
    "'PhD'],[1,2,3,4,5,6,7,8,9,10,11,12,13,14,15,16])\n",
    "\n",
    "# Encoding manually\n",
    "# Replacing the values in some labels manually\n",
    "newland_labels['Native Continent'] = newland_labels['Native Continent'].replace(['Asia', 'America', 'Oceania'], 'Other')\n",
    "newland_labels['Marital Status'] = newland_labels['Marital Status'].replace(['Married - Spouse Missing', 'Separated', 'Widow', 'Married - Spouse in the Army'], 'Other')\n",
    "newland_labels['Lives with'] = newland_labels['Lives with'].replace(['Wife', 'Husband'], 'Wife / Husband')\n",
    "newland_labels['Base Area'] = newland_labels['Base Area'].replace(['Auchenshuggle', 'Sharnwick', 'Laewaes',\n",
    "       'MillerVille', 'Fanfoss', 'Wigston', 'Aerilon', 'Watford',\n",
    "       \"Knife's Edge\", 'Lanercost', 'Bellmoral', 'Bellenau', 'Butterpond',\n",
    "       'Laenteglos', 'Tranmere', 'Eelry', 'Alverton', 'Pran', 'Willesden',\n",
    "       \"King's Watch\", 'Kald', 'Kirkwall', \"Fool's March\",\n",
    "       'Middlesbrough', 'Orilon', 'Aroonshire', 'Aberuthven', 'Lewes',\n",
    "       'Marnmouth', 'Mensfield', 'Sharpton', 'Cherrytown', 'Redwick Bush',\n",
    "       'Drumchapel', 'Carlisle', 'Conriston', 'Woodpine', 'Ironforge'], 'Other')\n",
    "newland_labels['Employment Sector'] = newland_labels['Employment Sector'].replace(['Private Sector - Others',\n",
    "       'Self-Employed (Company)', 'Public Sector - Government',\n",
    "       'Unemployed', 'Never Worked'], 'Other')\n",
    "\n",
    "newland = newland_labels.copy()"
   ]
  },
  {
   "cell_type": "markdown",
   "metadata": {},
   "source": [
    "OneHotEncoder"
   ]
  },
  {
   "cell_type": "code",
   "execution_count": 27,
   "metadata": {},
   "outputs": [],
   "source": [
    "# One Hot Encoder \n",
    "\n",
    "newland_ohc = newland.copy()\n",
    "\n",
    "\n",
    "# Updating metric and non-metric features\n",
    "# Education level now is a metric feature\n",
    "metric_features = ['Years of Education','Working Hours per week','Money Received','Ticket Price', 'Age', 'Sex', 'Income']\n",
    "non_metric_features = ['Native Continent','Marital Status','Lives with','Base Area','Employment Sector','Role']\n",
    "\n",
    "ohc = OneHotEncoder(sparse=False)\n",
    "ohc_feat = ohc.fit_transform(newland_ohc[non_metric_features])\n",
    "ohc_feat_names = ohc.get_feature_names(non_metric_features)\n",
    "ohc_df = pd.DataFrame(ohc_feat, index=newland_ohc.index, columns=ohc_feat_names)\n",
    "\n",
    "newland_ohc1 = pd.concat([newland_ohc.drop(columns=non_metric_features), ohc_df], axis=1)\n",
    "\n",
    "newland = newland_ohc1.copy()"
   ]
  },
  {
   "cell_type": "markdown",
   "metadata": {},
   "source": [
    "## 4. Missing values (engineering)"
   ]
  },
  {
   "cell_type": "code",
   "execution_count": 28,
   "metadata": {},
   "outputs": [],
   "source": [
    "# Missing values\n",
    "# \n",
    "# Defining the variables to change to nan (based on the ?)\n",
    "Base_Area_to_replace = ['Base Area_Northbury','Base Area_Other']\n",
    "Employment_Sector_to_replace = ['Employment Sector_Other','Employment Sector_Private Sector - Services ','Employment Sector_Public Sector - Others','Employment Sector_Self-Employed (Individual)']\n",
    "Role_to_replace = ['Role_Administratives', 'Role_Agriculture and Fishing', 'Role_Army','Role_Cleaners & Handlers', 'Role_Household Services', 'Role_IT','Role_Machine Operators & Inspectors', 'Role_Management','Role_Other services', 'Role_Professor', 'Role_Repair & constructions','Role_Sales', 'Role_Security', 'Role_Transports']\n",
    "\n",
    "# Defining the nan values\n",
    "newland.loc[newland['Base Area_?'] == 1.0, Base_Area_to_replace] = np.nan\n",
    "newland.loc[newland['Employment Sector_?'] == 1.0, Employment_Sector_to_replace] = np.nan\n",
    "newland.loc[newland['Role_?'] == 1.0, Role_to_replace] = np.nan\n",
    "\n",
    "# Dropping the variables with the question mark\n",
    "newland.drop(columns=['Base Area_?','Employment Sector_?','Role_?'], inplace = True)\n",
    "\n",
    "# For the problem of the linearity, dropping 1 variable for each previous variable\n",
    "newland.drop(['Native Continent_Africa', 'Marital Status_Divorced', 'Lives with_Alone','Base Area_Other', 'Employment Sector_Other', 'Role_Army'], axis = 1, inplace = True)"
   ]
  },
  {
   "cell_type": "markdown",
   "metadata": {},
   "source": [
    "## 5. Split: train set and test set"
   ]
  },
  {
   "cell_type": "code",
   "execution_count": 9,
   "metadata": {},
   "outputs": [],
   "source": [
    "X = newland.drop(['Income'], axis=1)\n",
    "Y = newland['Income']\n",
    "\n",
    "X_train, X_test,y_train, y_test = train_test_split(X,Y,train_size = 0.80, shuffle = True, stratify = Y)\n",
    "\n",
    "newland = pd.concat([X_train, y_train], axis = 1)"
   ]
  },
  {
   "cell_type": "markdown",
   "metadata": {},
   "source": [
    "## 6. Outliers"
   ]
  },
  {
   "cell_type": "code",
   "execution_count": 29,
   "metadata": {},
   "outputs": [
    {
     "output_type": "stream",
     "name": "stdout",
     "text": [
      "Percentage of data kept after removing outliers: 0.9776\n"
     ]
    }
   ],
   "source": [
    "# Outliers \n",
    "\n",
    "newland_outliers = newland.copy()\n",
    "\n",
    "variables_for_outliers = ['Years of Education',\n",
    "       'Working Hours per week']\n",
    "\n",
    "newland = newland.reset_index(drop=True)\n",
    "\n",
    "\n",
    "lower_lim = newland[variables_for_outliers].quantile(.01)\n",
    "upper_lim = newland[variables_for_outliers].quantile(.99)\n",
    "\n",
    "filters = []\n",
    "for metric in variables_for_outliers:\n",
    "    llim = lower_lim[metric]\n",
    "    ulim = upper_lim[metric]\n",
    "    filters.append(newland[metric].between(llim, ulim, inclusive=True))\n",
    "\n",
    "filters = pd.Series(np.all(filters, 0))\n",
    "newland_outliers = newland[filters]\n",
    "print('Percentage of data kept after removing outliers:', np.round(newland_outliers.shape[0] / newland.shape[0], 4))\n",
    "\n",
    "newland = newland_outliers.copy()"
   ]
  },
  {
   "cell_type": "markdown",
   "metadata": {},
   "source": [
    "## 7. Index of the dataset"
   ]
  },
  {
   "cell_type": "code",
   "execution_count": 30,
   "metadata": {},
   "outputs": [],
   "source": [
    "# Setting the index in the dataset\n",
    "newland = newland.set_index('CITIZEN_ID')"
   ]
  },
  {
   "cell_type": "markdown",
   "metadata": {},
   "source": [
    "## 8. Feature selection"
   ]
  },
  {
   "cell_type": "code",
   "execution_count": 31,
   "metadata": {},
   "outputs": [],
   "source": [
    "# Feature selection matching the result for MIC, feature importance by gradient boosting, correlation matrix\n",
    "\n",
    "feature_selection = ['Lives with_Wife / Husband',\n",
    " 'Money Received',\n",
    " 'Years of Education',\n",
    " 'Ticket Price',\n",
    " 'Age',\n",
    " 'Working Hours per week',\n",
    " 'Role_Management',\n",
    " 'Role_Professor',\n",
    " 'Role_Agriculture and Fishing',\n",
    " 'Gender',\n",
    " 'Employment Sector_Self-Employed (Individual)',\n",
    " 'Role_Other services', 'Income']\n",
    " \n",
    "newland_fs = newland[feature_selection]"
   ]
  },
  {
   "source": [
    "## 9. Modeling: Hist-Gradient Boosting"
   ],
   "cell_type": "markdown",
   "metadata": {}
  },
  {
   "source": [
    "Train validation split"
   ],
   "cell_type": "markdown",
   "metadata": {}
  },
  {
   "cell_type": "code",
   "execution_count": 13,
   "metadata": {},
   "outputs": [],
   "source": [
    "# TRAIN VALIDATION SPLIT\n",
    "\n",
    "X = newland_fs.drop(['Income'], axis=1)\n",
    "Y = newland_fs['Income']\n",
    "\n",
    "X_train, X_validation,y_train, y_validation = train_test_split(X,Y,train_size = 0.80, shuffle = True, stratify = Y)\n",
    "\n",
    "\n",
    "# Standardization of the variables with the robust scaler\n",
    "robust = RobustScaler().fit(X_train)\n",
    "X_train_robust = pd.DataFrame(robust.transform(X_train), columns=X_train.columns, index = X_train.index)\n",
    "X_validation_robust = pd.DataFrame(robust.transform(X_validation), columns=X_validation.columns, index = X_validation.index)\n",
    "\n",
    "X_train = X_train_robust\n",
    "X_validation = X_validation_robust"
   ]
  },
  {
   "source": [
    "Hist gradient Boosting"
   ],
   "cell_type": "markdown",
   "metadata": {}
  },
  {
   "cell_type": "code",
   "execution_count": 18,
   "metadata": {},
   "outputs": [
    {
     "output_type": "execute_result",
     "data": {
      "text/plain": [
       "87.361"
      ]
     },
     "metadata": {},
     "execution_count": 18
    }
   ],
   "source": [
    "is_categorical = [0,6,7,8,9,10,11]\n",
    "\n",
    "hgb_model =  HistGradientBoostingClassifier(loss = 'binary_crossentropy', max_leaf_nodes = 20, min_samples_leaf = 7, max_bins = 150, learning_rate= 0.3, max_iter=135, categorical_features=is_categorical, max_depth=3, random_state=0)\n",
    "\n",
    "hgb_model.fit(X_train, y_train)\n",
    "y_prediction = hgb_model.predict(X_validation)  \n",
    "GradientBoosting_F1 = round(f1_score(y_true = y_validation, y_pred = y_prediction, average='micro')*100, 3)\n",
    "GradientBoosting_F1"
   ]
  },
  {
   "cell_type": "code",
   "execution_count": 19,
   "metadata": {},
   "outputs": [],
   "source": [
    "newland_check = pd.concat([X_validation.reset_index(), pd.Series(y_prediction), y_validation.reset_index()], axis = 1)\n",
    "\n",
    "validation_set = newland_check.rename(columns={0: \"prediction\"})"
   ]
  },
  {
   "cell_type": "code",
   "execution_count": 20,
   "metadata": {},
   "outputs": [
    {
     "output_type": "execute_result",
     "data": {
      "text/plain": [
       "             Real 0  Real 1\n",
       "Predicted 0    2533     310\n",
       "Predicted 1     133     529"
      ],
      "text/html": "<div>\n<style scoped>\n    .dataframe tbody tr th:only-of-type {\n        vertical-align: middle;\n    }\n\n    .dataframe tbody tr th {\n        vertical-align: top;\n    }\n\n    .dataframe thead th {\n        text-align: right;\n    }\n</style>\n<table border=\"1\" class=\"dataframe\">\n  <thead>\n    <tr style=\"text-align: right;\">\n      <th></th>\n      <th>Real 0</th>\n      <th>Real 1</th>\n    </tr>\n  </thead>\n  <tbody>\n    <tr>\n      <th>Predicted 0</th>\n      <td>2533</td>\n      <td>310</td>\n    </tr>\n    <tr>\n      <th>Predicted 1</th>\n      <td>133</td>\n      <td>529</td>\n    </tr>\n  </tbody>\n</table>\n</div>"
     },
     "metadata": {},
     "execution_count": 20
    }
   ],
   "source": [
    "pd.DataFrame(confusion_matrix(validation_set.prediction, validation_set.Income), \n",
    "                              columns=['Real 0', 'Real 1'], \n",
    "                              index =['Predicted 0', 'Predicted 1'])"
   ]
  },
  {
   "cell_type": "code",
   "execution_count": 339,
   "metadata": {},
   "outputs": [
    {
     "output_type": "display_data",
     "data": {
      "text/plain": "<Figure size 720x576 with 0 Axes>"
     },
     "metadata": {}
    },
    {
     "output_type": "display_data",
     "data": {
      "text/plain": "<Figure size 408.05x360 with 1 Axes>",
      "image/svg+xml": "<?xml version=\"1.0\" encoding=\"utf-8\" standalone=\"no\"?>\r\n<!DOCTYPE svg PUBLIC \"-//W3C//DTD SVG 1.1//EN\"\r\n  \"http://www.w3.org/Graphics/SVG/1.1/DTD/svg11.dtd\">\r\n<!-- Created with matplotlib (https://matplotlib.org/) -->\r\n<svg height=\"364.244219pt\" version=\"1.1\" viewBox=\"0 0 404.973125 364.244219\" width=\"404.973125pt\" xmlns=\"http://www.w3.org/2000/svg\" xmlns:xlink=\"http://www.w3.org/1999/xlink\">\r\n <metadata>\r\n  <rdf:RDF xmlns:cc=\"http://creativecommons.org/ns#\" xmlns:dc=\"http://purl.org/dc/elements/1.1/\" xmlns:rdf=\"http://www.w3.org/1999/02/22-rdf-syntax-ns#\">\r\n   <cc:Work>\r\n    <dc:type rdf:resource=\"http://purl.org/dc/dcmitype/StillImage\"/>\r\n    <dc:date>2020-12-24T16:16:01.572983</dc:date>\r\n    <dc:format>image/svg+xml</dc:format>\r\n    <dc:creator>\r\n     <cc:Agent>\r\n      <dc:title>Matplotlib v3.3.2, https://matplotlib.org/</dc:title>\r\n     </cc:Agent>\r\n    </dc:creator>\r\n   </cc:Work>\r\n  </rdf:RDF>\r\n </metadata>\r\n <defs>\r\n  <style type=\"text/css\">*{stroke-linecap:butt;stroke-linejoin:round;}</style>\r\n </defs>\r\n <g id=\"figure_1\">\r\n  <g id=\"patch_1\">\r\n   <path d=\"M 0 364.244219 \r\nL 404.973125 364.244219 \r\nL 404.973125 -0 \r\nL 0 -0 \r\nz\r\n\" style=\"fill:#ffffff;\"/>\r\n  </g>\r\n  <g id=\"axes_1\">\r\n   <g id=\"patch_2\">\r\n    <path d=\"M 47.105 322.369375 \r\nL 338.182625 322.369375 \r\nL 338.182625 21.789375 \r\nL 47.105 21.789375 \r\nz\r\n\" style=\"fill:#eaeaf2;\"/>\r\n   </g>\r\n   <g id=\"matplotlib.axis_1\">\r\n    <g id=\"xtick_1\">\r\n     <g id=\"line2d_1\">\r\n      <path clip-path=\"url(#p4742d1fc81)\" d=\"M 87.678483 322.369375 \r\nL 87.678483 21.789375 \r\n\" style=\"fill:none;stroke:#ffffff;stroke-linecap:round;\"/>\r\n     </g>\r\n     <g id=\"text_1\">\r\n      <!-- −1 -->\r\n      <g style=\"fill:#262626;\" transform=\"translate(81.407623 339.742969)scale(0.11 -0.11)\">\r\n       <defs>\r\n        <path d=\"M 52.828125 31.203125 \r\nL 5.5625 31.203125 \r\nL 5.5625 39.40625 \r\nL 52.828125 39.40625 \r\nz\r\n\" id=\"ArialMT-8722\"/>\r\n        <path d=\"M 37.25 0 \r\nL 28.46875 0 \r\nL 28.46875 56 \r\nQ 25.296875 52.984375 20.140625 49.953125 \r\nQ 14.984375 46.921875 10.890625 45.40625 \r\nL 10.890625 53.90625 \r\nQ 18.265625 57.375 23.78125 62.296875 \r\nQ 29.296875 67.234375 31.59375 71.875 \r\nL 37.25 71.875 \r\nz\r\n\" id=\"ArialMT-49\"/>\r\n       </defs>\r\n       <use xlink:href=\"#ArialMT-8722\"/>\r\n       <use x=\"58.398438\" xlink:href=\"#ArialMT-49\"/>\r\n      </g>\r\n     </g>\r\n    </g>\r\n    <g id=\"xtick_2\">\r\n     <g id=\"line2d_2\">\r\n      <path clip-path=\"url(#p4742d1fc81)\" d=\"M 143.85711 322.369375 \r\nL 143.85711 21.789375 \r\n\" style=\"fill:none;stroke:#ffffff;stroke-linecap:round;\"/>\r\n     </g>\r\n     <g id=\"text_2\">\r\n      <!-- 0 -->\r\n      <g style=\"fill:#262626;\" transform=\"translate(140.798594 339.742969)scale(0.11 -0.11)\">\r\n       <defs>\r\n        <path d=\"M 4.15625 35.296875 \r\nQ 4.15625 48 6.765625 55.734375 \r\nQ 9.375 63.484375 14.515625 67.671875 \r\nQ 19.671875 71.875 27.484375 71.875 \r\nQ 33.25 71.875 37.59375 69.546875 \r\nQ 41.9375 67.234375 44.765625 62.859375 \r\nQ 47.609375 58.5 49.21875 52.21875 \r\nQ 50.828125 45.953125 50.828125 35.296875 \r\nQ 50.828125 22.703125 48.234375 14.96875 \r\nQ 45.65625 7.234375 40.5 3 \r\nQ 35.359375 -1.21875 27.484375 -1.21875 \r\nQ 17.140625 -1.21875 11.234375 6.203125 \r\nQ 4.15625 15.140625 4.15625 35.296875 \r\nz\r\nM 13.1875 35.296875 \r\nQ 13.1875 17.671875 17.3125 11.828125 \r\nQ 21.4375 6 27.484375 6 \r\nQ 33.546875 6 37.671875 11.859375 \r\nQ 41.796875 17.71875 41.796875 35.296875 \r\nQ 41.796875 52.984375 37.671875 58.78125 \r\nQ 33.546875 64.59375 27.390625 64.59375 \r\nQ 21.34375 64.59375 17.71875 59.46875 \r\nQ 13.1875 52.9375 13.1875 35.296875 \r\nz\r\n\" id=\"ArialMT-48\"/>\r\n       </defs>\r\n       <use xlink:href=\"#ArialMT-48\"/>\r\n      </g>\r\n     </g>\r\n    </g>\r\n    <g id=\"xtick_3\">\r\n     <g id=\"line2d_3\">\r\n      <path clip-path=\"url(#p4742d1fc81)\" d=\"M 200.035737 322.369375 \r\nL 200.035737 21.789375 \r\n\" style=\"fill:none;stroke:#ffffff;stroke-linecap:round;\"/>\r\n     </g>\r\n     <g id=\"text_3\">\r\n      <!-- 1 -->\r\n      <g style=\"fill:#262626;\" transform=\"translate(196.977222 339.742969)scale(0.11 -0.11)\">\r\n       <use xlink:href=\"#ArialMT-49\"/>\r\n      </g>\r\n     </g>\r\n    </g>\r\n    <g id=\"xtick_4\">\r\n     <g id=\"line2d_4\">\r\n      <path clip-path=\"url(#p4742d1fc81)\" d=\"M 256.214364 322.369375 \r\nL 256.214364 21.789375 \r\n\" style=\"fill:none;stroke:#ffffff;stroke-linecap:round;\"/>\r\n     </g>\r\n     <g id=\"text_4\">\r\n      <!-- 2 -->\r\n      <g style=\"fill:#262626;\" transform=\"translate(253.155849 339.742969)scale(0.11 -0.11)\">\r\n       <defs>\r\n        <path d=\"M 50.34375 8.453125 \r\nL 50.34375 0 \r\nL 3.03125 0 \r\nQ 2.9375 3.171875 4.046875 6.109375 \r\nQ 5.859375 10.9375 9.828125 15.625 \r\nQ 13.8125 20.3125 21.34375 26.46875 \r\nQ 33.015625 36.03125 37.109375 41.625 \r\nQ 41.21875 47.21875 41.21875 52.203125 \r\nQ 41.21875 57.421875 37.46875 61 \r\nQ 33.734375 64.59375 27.734375 64.59375 \r\nQ 21.390625 64.59375 17.578125 60.78125 \r\nQ 13.765625 56.984375 13.71875 50.25 \r\nL 4.6875 51.171875 \r\nQ 5.609375 61.28125 11.65625 66.578125 \r\nQ 17.71875 71.875 27.9375 71.875 \r\nQ 38.234375 71.875 44.234375 66.15625 \r\nQ 50.25 60.453125 50.25 52 \r\nQ 50.25 47.703125 48.484375 43.546875 \r\nQ 46.734375 39.40625 42.65625 34.8125 \r\nQ 38.578125 30.21875 29.109375 22.21875 \r\nQ 21.1875 15.578125 18.9375 13.203125 \r\nQ 16.703125 10.84375 15.234375 8.453125 \r\nz\r\n\" id=\"ArialMT-50\"/>\r\n       </defs>\r\n       <use xlink:href=\"#ArialMT-50\"/>\r\n      </g>\r\n     </g>\r\n    </g>\r\n    <g id=\"xtick_5\">\r\n     <g id=\"line2d_5\">\r\n      <path clip-path=\"url(#p4742d1fc81)\" d=\"M 312.392992 322.369375 \r\nL 312.392992 21.789375 \r\n\" style=\"fill:none;stroke:#ffffff;stroke-linecap:round;\"/>\r\n     </g>\r\n     <g id=\"text_5\">\r\n      <!-- 3 -->\r\n      <g style=\"fill:#262626;\" transform=\"translate(309.334476 339.742969)scale(0.11 -0.11)\">\r\n       <defs>\r\n        <path d=\"M 4.203125 18.890625 \r\nL 12.984375 20.0625 \r\nQ 14.5 12.59375 18.140625 9.296875 \r\nQ 21.78125 6 27 6 \r\nQ 33.203125 6 37.46875 10.296875 \r\nQ 41.75 14.59375 41.75 20.953125 \r\nQ 41.75 27 37.796875 30.921875 \r\nQ 33.84375 34.859375 27.734375 34.859375 \r\nQ 25.25 34.859375 21.53125 33.890625 \r\nL 22.515625 41.609375 \r\nQ 23.390625 41.5 23.921875 41.5 \r\nQ 29.546875 41.5 34.03125 44.421875 \r\nQ 38.53125 47.359375 38.53125 53.46875 \r\nQ 38.53125 58.296875 35.25 61.46875 \r\nQ 31.984375 64.65625 26.8125 64.65625 \r\nQ 21.6875 64.65625 18.265625 61.421875 \r\nQ 14.84375 58.203125 13.875 51.765625 \r\nL 5.078125 53.328125 \r\nQ 6.6875 62.15625 12.390625 67.015625 \r\nQ 18.109375 71.875 26.609375 71.875 \r\nQ 32.46875 71.875 37.390625 69.359375 \r\nQ 42.328125 66.84375 44.9375 62.5 \r\nQ 47.5625 58.15625 47.5625 53.265625 \r\nQ 47.5625 48.640625 45.0625 44.828125 \r\nQ 42.578125 41.015625 37.703125 38.765625 \r\nQ 44.046875 37.3125 47.5625 32.6875 \r\nQ 51.078125 28.078125 51.078125 21.140625 \r\nQ 51.078125 11.765625 44.234375 5.25 \r\nQ 37.40625 -1.265625 26.953125 -1.265625 \r\nQ 17.53125 -1.265625 11.296875 4.34375 \r\nQ 5.078125 9.96875 4.203125 18.890625 \r\nz\r\n\" id=\"ArialMT-51\"/>\r\n       </defs>\r\n       <use xlink:href=\"#ArialMT-51\"/>\r\n      </g>\r\n     </g>\r\n    </g>\r\n    <g id=\"text_6\">\r\n     <!-- Age -->\r\n     <g style=\"fill:#262626;\" transform=\"translate(181.9685 354.518594)scale(0.12 -0.12)\">\r\n      <defs>\r\n       <path d=\"M -0.140625 0 \r\nL 27.34375 71.578125 \r\nL 37.546875 71.578125 \r\nL 66.84375 0 \r\nL 56.0625 0 \r\nL 47.703125 21.6875 \r\nL 17.78125 21.6875 \r\nL 9.90625 0 \r\nz\r\nM 20.515625 29.390625 \r\nL 44.78125 29.390625 \r\nL 37.3125 49.21875 \r\nQ 33.890625 58.25 32.234375 64.0625 \r\nQ 30.859375 57.171875 28.375 50.390625 \r\nz\r\n\" id=\"ArialMT-65\"/>\r\n       <path d=\"M 4.984375 -4.296875 \r\nL 13.53125 -5.5625 \r\nQ 14.0625 -9.515625 16.5 -11.328125 \r\nQ 19.78125 -13.765625 25.4375 -13.765625 \r\nQ 31.546875 -13.765625 34.859375 -11.328125 \r\nQ 38.1875 -8.890625 39.359375 -4.5 \r\nQ 40.046875 -1.8125 39.984375 6.78125 \r\nQ 34.234375 0 25.640625 0 \r\nQ 14.9375 0 9.078125 7.71875 \r\nQ 3.21875 15.4375 3.21875 26.21875 \r\nQ 3.21875 33.640625 5.90625 39.90625 \r\nQ 8.59375 46.1875 13.6875 49.609375 \r\nQ 18.796875 53.03125 25.6875 53.03125 \r\nQ 34.859375 53.03125 40.828125 45.609375 \r\nL 40.828125 51.859375 \r\nL 48.921875 51.859375 \r\nL 48.921875 7.03125 \r\nQ 48.921875 -5.078125 46.453125 -10.125 \r\nQ 44 -15.1875 38.640625 -18.109375 \r\nQ 33.296875 -21.046875 25.484375 -21.046875 \r\nQ 16.21875 -21.046875 10.5 -16.875 \r\nQ 4.78125 -12.703125 4.984375 -4.296875 \r\nz\r\nM 12.25 26.859375 \r\nQ 12.25 16.65625 16.296875 11.96875 \r\nQ 20.359375 7.28125 26.46875 7.28125 \r\nQ 32.515625 7.28125 36.609375 11.9375 \r\nQ 40.71875 16.609375 40.71875 26.5625 \r\nQ 40.71875 36.078125 36.5 40.90625 \r\nQ 32.28125 45.75 26.3125 45.75 \r\nQ 20.453125 45.75 16.34375 40.984375 \r\nQ 12.25 36.234375 12.25 26.859375 \r\nz\r\n\" id=\"ArialMT-103\"/>\r\n       <path d=\"M 42.09375 16.703125 \r\nL 51.171875 15.578125 \r\nQ 49.03125 7.625 43.21875 3.21875 \r\nQ 37.40625 -1.171875 28.375 -1.171875 \r\nQ 17 -1.171875 10.328125 5.828125 \r\nQ 3.65625 12.84375 3.65625 25.484375 \r\nQ 3.65625 38.578125 10.390625 45.796875 \r\nQ 17.140625 53.03125 27.875 53.03125 \r\nQ 38.28125 53.03125 44.875 45.953125 \r\nQ 51.46875 38.875 51.46875 26.03125 \r\nQ 51.46875 25.25 51.421875 23.6875 \r\nL 12.75 23.6875 \r\nQ 13.234375 15.140625 17.578125 10.59375 \r\nQ 21.921875 6.0625 28.421875 6.0625 \r\nQ 33.25 6.0625 36.671875 8.59375 \r\nQ 40.09375 11.140625 42.09375 16.703125 \r\nz\r\nM 13.234375 30.90625 \r\nL 42.1875 30.90625 \r\nQ 41.609375 37.453125 38.875 40.71875 \r\nQ 34.671875 45.796875 27.984375 45.796875 \r\nQ 21.921875 45.796875 17.796875 41.75 \r\nQ 13.671875 37.703125 13.234375 30.90625 \r\nz\r\n\" id=\"ArialMT-101\"/>\r\n      </defs>\r\n      <use xlink:href=\"#ArialMT-65\"/>\r\n      <use x=\"66.699219\" xlink:href=\"#ArialMT-103\"/>\r\n      <use x=\"122.314453\" xlink:href=\"#ArialMT-101\"/>\r\n     </g>\r\n    </g>\r\n   </g>\r\n   <g id=\"matplotlib.axis_2\">\r\n    <g id=\"ytick_1\">\r\n     <g id=\"line2d_6\">\r\n      <path clip-path=\"url(#p4742d1fc81)\" d=\"M 47.105 322.369375 \r\nL 338.182625 322.369375 \r\n\" style=\"fill:none;stroke:#ffffff;stroke-linecap:round;\"/>\r\n     </g>\r\n     <g id=\"text_7\">\r\n      <!-- 0.0 -->\r\n      <g style=\"fill:#262626;\" transform=\"translate(22.315 326.306172)scale(0.11 -0.11)\">\r\n       <defs>\r\n        <path d=\"M 9.078125 0 \r\nL 9.078125 10.015625 \r\nL 19.09375 10.015625 \r\nL 19.09375 0 \r\nz\r\n\" id=\"ArialMT-46\"/>\r\n       </defs>\r\n       <use xlink:href=\"#ArialMT-48\"/>\r\n       <use x=\"55.615234\" xlink:href=\"#ArialMT-46\"/>\r\n       <use x=\"83.398438\" xlink:href=\"#ArialMT-48\"/>\r\n      </g>\r\n     </g>\r\n    </g>\r\n    <g id=\"ytick_2\">\r\n     <g id=\"line2d_7\">\r\n      <path clip-path=\"url(#p4742d1fc81)\" d=\"M 47.105 258.946006 \r\nL 338.182625 258.946006 \r\n\" style=\"fill:none;stroke:#ffffff;stroke-linecap:round;\"/>\r\n     </g>\r\n     <g id=\"text_8\">\r\n      <!-- 0.1 -->\r\n      <g style=\"fill:#262626;\" transform=\"translate(22.315 262.882803)scale(0.11 -0.11)\">\r\n       <use xlink:href=\"#ArialMT-48\"/>\r\n       <use x=\"55.615234\" xlink:href=\"#ArialMT-46\"/>\r\n       <use x=\"83.398438\" xlink:href=\"#ArialMT-49\"/>\r\n      </g>\r\n     </g>\r\n    </g>\r\n    <g id=\"ytick_3\">\r\n     <g id=\"line2d_8\">\r\n      <path clip-path=\"url(#p4742d1fc81)\" d=\"M 47.105 195.522637 \r\nL 338.182625 195.522637 \r\n\" style=\"fill:none;stroke:#ffffff;stroke-linecap:round;\"/>\r\n     </g>\r\n     <g id=\"text_9\">\r\n      <!-- 0.2 -->\r\n      <g style=\"fill:#262626;\" transform=\"translate(22.315 199.459433)scale(0.11 -0.11)\">\r\n       <use xlink:href=\"#ArialMT-48\"/>\r\n       <use x=\"55.615234\" xlink:href=\"#ArialMT-46\"/>\r\n       <use x=\"83.398438\" xlink:href=\"#ArialMT-50\"/>\r\n      </g>\r\n     </g>\r\n    </g>\r\n    <g id=\"ytick_4\">\r\n     <g id=\"line2d_9\">\r\n      <path clip-path=\"url(#p4742d1fc81)\" d=\"M 47.105 132.099267 \r\nL 338.182625 132.099267 \r\n\" style=\"fill:none;stroke:#ffffff;stroke-linecap:round;\"/>\r\n     </g>\r\n     <g id=\"text_10\">\r\n      <!-- 0.3 -->\r\n      <g style=\"fill:#262626;\" transform=\"translate(22.315 136.036064)scale(0.11 -0.11)\">\r\n       <use xlink:href=\"#ArialMT-48\"/>\r\n       <use x=\"55.615234\" xlink:href=\"#ArialMT-46\"/>\r\n       <use x=\"83.398438\" xlink:href=\"#ArialMT-51\"/>\r\n      </g>\r\n     </g>\r\n    </g>\r\n    <g id=\"ytick_5\">\r\n     <g id=\"line2d_10\">\r\n      <path clip-path=\"url(#p4742d1fc81)\" d=\"M 47.105 68.675898 \r\nL 338.182625 68.675898 \r\n\" style=\"fill:none;stroke:#ffffff;stroke-linecap:round;\"/>\r\n     </g>\r\n     <g id=\"text_11\">\r\n      <!-- 0.4 -->\r\n      <g style=\"fill:#262626;\" transform=\"translate(22.315 72.612695)scale(0.11 -0.11)\">\r\n       <defs>\r\n        <path d=\"M 32.328125 0 \r\nL 32.328125 17.140625 \r\nL 1.265625 17.140625 \r\nL 1.265625 25.203125 \r\nL 33.9375 71.578125 \r\nL 41.109375 71.578125 \r\nL 41.109375 25.203125 \r\nL 50.78125 25.203125 \r\nL 50.78125 17.140625 \r\nL 41.109375 17.140625 \r\nL 41.109375 0 \r\nz\r\nM 32.328125 25.203125 \r\nL 32.328125 57.46875 \r\nL 9.90625 25.203125 \r\nz\r\n\" id=\"ArialMT-52\"/>\r\n       </defs>\r\n       <use xlink:href=\"#ArialMT-48\"/>\r\n       <use x=\"55.615234\" xlink:href=\"#ArialMT-46\"/>\r\n       <use x=\"83.398438\" xlink:href=\"#ArialMT-52\"/>\r\n      </g>\r\n     </g>\r\n    </g>\r\n    <g id=\"text_12\">\r\n     <!-- Density -->\r\n     <g style=\"fill:#262626;\" transform=\"translate(15.789375 192.085625)rotate(-90)scale(0.12 -0.12)\">\r\n      <defs>\r\n       <path d=\"M 7.71875 0 \r\nL 7.71875 71.578125 \r\nL 32.375 71.578125 \r\nQ 40.71875 71.578125 45.125 70.5625 \r\nQ 51.265625 69.140625 55.609375 65.4375 \r\nQ 61.28125 60.640625 64.078125 53.1875 \r\nQ 66.890625 45.75 66.890625 36.1875 \r\nQ 66.890625 28.03125 64.984375 21.734375 \r\nQ 63.09375 15.4375 60.109375 11.296875 \r\nQ 57.125 7.171875 53.578125 4.796875 \r\nQ 50.046875 2.4375 45.046875 1.21875 \r\nQ 40.046875 0 33.546875 0 \r\nz\r\nM 17.1875 8.453125 \r\nL 32.46875 8.453125 \r\nQ 39.546875 8.453125 43.578125 9.765625 \r\nQ 47.609375 11.078125 50 13.484375 \r\nQ 53.375 16.84375 55.25 22.53125 \r\nQ 57.125 28.21875 57.125 36.328125 \r\nQ 57.125 47.5625 53.4375 53.59375 \r\nQ 49.75 59.625 44.484375 61.671875 \r\nQ 40.671875 63.140625 32.234375 63.140625 \r\nL 17.1875 63.140625 \r\nz\r\n\" id=\"ArialMT-68\"/>\r\n       <path d=\"M 6.59375 0 \r\nL 6.59375 51.859375 \r\nL 14.5 51.859375 \r\nL 14.5 44.484375 \r\nQ 20.21875 53.03125 31 53.03125 \r\nQ 35.6875 53.03125 39.625 51.34375 \r\nQ 43.5625 49.65625 45.515625 46.921875 \r\nQ 47.46875 44.1875 48.25 40.4375 \r\nQ 48.734375 37.984375 48.734375 31.890625 \r\nL 48.734375 0 \r\nL 39.9375 0 \r\nL 39.9375 31.546875 \r\nQ 39.9375 36.921875 38.90625 39.578125 \r\nQ 37.890625 42.234375 35.28125 43.8125 \r\nQ 32.671875 45.40625 29.15625 45.40625 \r\nQ 23.53125 45.40625 19.453125 41.84375 \r\nQ 15.375 38.28125 15.375 28.328125 \r\nL 15.375 0 \r\nz\r\n\" id=\"ArialMT-110\"/>\r\n       <path d=\"M 3.078125 15.484375 \r\nL 11.765625 16.84375 \r\nQ 12.5 11.625 15.84375 8.84375 \r\nQ 19.1875 6.0625 25.203125 6.0625 \r\nQ 31.25 6.0625 34.171875 8.515625 \r\nQ 37.109375 10.984375 37.109375 14.3125 \r\nQ 37.109375 17.28125 34.515625 19 \r\nQ 32.71875 20.171875 25.53125 21.96875 \r\nQ 15.875 24.421875 12.140625 26.203125 \r\nQ 8.40625 27.984375 6.46875 31.125 \r\nQ 4.546875 34.28125 4.546875 38.09375 \r\nQ 4.546875 41.546875 6.125 44.5 \r\nQ 7.71875 47.46875 10.453125 49.421875 \r\nQ 12.5 50.921875 16.03125 51.96875 \r\nQ 19.578125 53.03125 23.640625 53.03125 \r\nQ 29.734375 53.03125 34.34375 51.265625 \r\nQ 38.96875 49.515625 41.15625 46.5 \r\nQ 43.359375 43.5 44.1875 38.484375 \r\nL 35.59375 37.3125 \r\nQ 35.015625 41.3125 32.203125 43.546875 \r\nQ 29.390625 45.796875 24.265625 45.796875 \r\nQ 18.21875 45.796875 15.625 43.796875 \r\nQ 13.03125 41.796875 13.03125 39.109375 \r\nQ 13.03125 37.40625 14.109375 36.03125 \r\nQ 15.1875 34.625 17.484375 33.6875 \r\nQ 18.796875 33.203125 25.25 31.453125 \r\nQ 34.578125 28.953125 38.25 27.359375 \r\nQ 41.9375 25.78125 44.03125 22.75 \r\nQ 46.140625 19.734375 46.140625 15.234375 \r\nQ 46.140625 10.84375 43.578125 6.953125 \r\nQ 41.015625 3.078125 36.171875 0.953125 \r\nQ 31.34375 -1.171875 25.25 -1.171875 \r\nQ 15.140625 -1.171875 9.84375 3.03125 \r\nQ 4.546875 7.234375 3.078125 15.484375 \r\nz\r\n\" id=\"ArialMT-115\"/>\r\n       <path d=\"M 6.640625 61.46875 \r\nL 6.640625 71.578125 \r\nL 15.4375 71.578125 \r\nL 15.4375 61.46875 \r\nz\r\nM 6.640625 0 \r\nL 6.640625 51.859375 \r\nL 15.4375 51.859375 \r\nL 15.4375 0 \r\nz\r\n\" id=\"ArialMT-105\"/>\r\n       <path d=\"M 25.78125 7.859375 \r\nL 27.046875 0.09375 \r\nQ 23.34375 -0.6875 20.40625 -0.6875 \r\nQ 15.625 -0.6875 12.984375 0.828125 \r\nQ 10.359375 2.34375 9.28125 4.8125 \r\nQ 8.203125 7.28125 8.203125 15.1875 \r\nL 8.203125 45.015625 \r\nL 1.765625 45.015625 \r\nL 1.765625 51.859375 \r\nL 8.203125 51.859375 \r\nL 8.203125 64.703125 \r\nL 16.9375 69.96875 \r\nL 16.9375 51.859375 \r\nL 25.78125 51.859375 \r\nL 25.78125 45.015625 \r\nL 16.9375 45.015625 \r\nL 16.9375 14.703125 \r\nQ 16.9375 10.9375 17.40625 9.859375 \r\nQ 17.875 8.796875 18.921875 8.15625 \r\nQ 19.96875 7.515625 21.921875 7.515625 \r\nQ 23.390625 7.515625 25.78125 7.859375 \r\nz\r\n\" id=\"ArialMT-116\"/>\r\n       <path d=\"M 6.203125 -19.96875 \r\nL 5.21875 -11.71875 \r\nQ 8.109375 -12.5 10.25 -12.5 \r\nQ 13.1875 -12.5 14.9375 -11.515625 \r\nQ 16.703125 -10.546875 17.828125 -8.796875 \r\nQ 18.65625 -7.46875 20.515625 -2.25 \r\nQ 20.75 -1.515625 21.296875 -0.09375 \r\nL 1.609375 51.859375 \r\nL 11.078125 51.859375 \r\nL 21.875 21.828125 \r\nQ 23.96875 16.109375 25.640625 9.8125 \r\nQ 27.15625 15.875 29.25 21.625 \r\nL 40.328125 51.859375 \r\nL 49.125 51.859375 \r\nL 29.390625 -0.875 \r\nQ 26.21875 -9.421875 24.46875 -12.640625 \r\nQ 22.125 -17 19.09375 -19.015625 \r\nQ 16.0625 -21.046875 11.859375 -21.046875 \r\nQ 9.328125 -21.046875 6.203125 -19.96875 \r\nz\r\n\" id=\"ArialMT-121\"/>\r\n      </defs>\r\n      <use xlink:href=\"#ArialMT-68\"/>\r\n      <use x=\"72.216797\" xlink:href=\"#ArialMT-101\"/>\r\n      <use x=\"127.832031\" xlink:href=\"#ArialMT-110\"/>\r\n      <use x=\"183.447266\" xlink:href=\"#ArialMT-115\"/>\r\n      <use x=\"233.447266\" xlink:href=\"#ArialMT-105\"/>\r\n      <use x=\"255.664062\" xlink:href=\"#ArialMT-116\"/>\r\n      <use x=\"283.447266\" xlink:href=\"#ArialMT-121\"/>\r\n     </g>\r\n    </g>\r\n   </g>\r\n   <g id=\"line2d_11\">\r\n    <path clip-path=\"url(#p4742d1fc81)\" d=\"M 67.061646 322.364443 \r\nL 77.396435 322.232928 \r\nL 82.56383 321.915417 \r\nL 86.439376 321.38999 \r\nL 89.023073 320.805294 \r\nL 91.60677 319.942446 \r\nL 94.190467 318.705078 \r\nL 95.482316 317.914305 \r\nL 96.774164 316.993083 \r\nL 98.066013 315.931478 \r\nL 99.357862 314.72168 \r\nL 101.941559 311.838305 \r\nL 104.525256 308.326304 \r\nL 107.108953 304.192371 \r\nL 109.69265 299.450344 \r\nL 112.276348 294.122299 \r\nL 114.860045 288.264518 \r\nL 118.735591 278.769524 \r\nL 125.194834 262.752383 \r\nL 127.778531 256.824075 \r\nL 130.362228 251.33665 \r\nL 132.945925 246.337611 \r\nL 135.529622 241.846344 \r\nL 138.11332 237.872445 \r\nL 140.697017 234.440883 \r\nL 143.280714 231.606887 \r\nL 144.572563 230.435019 \r\nL 145.864411 229.434076 \r\nL 147.15626 228.603554 \r\nL 148.448108 227.935959 \r\nL 149.739957 227.41618 \r\nL 152.323654 226.726595 \r\nL 156.1992 226.147093 \r\nL 162.658443 225.344444 \r\nL 165.24214 225.276494 \r\nL 166.533989 225.389976 \r\nL 167.825837 225.629814 \r\nL 169.117686 226.009301 \r\nL 170.409535 226.534167 \r\nL 171.701383 227.202832 \r\nL 174.28508 228.937643 \r\nL 176.868778 231.123538 \r\nL 179.452475 233.685412 \r\nL 182.036172 236.602243 \r\nL 184.619869 239.886553 \r\nL 187.203566 243.52558 \r\nL 192.370961 251.438374 \r\nL 196.246507 257.225952 \r\nL 200.122052 262.481825 \r\nL 203.997598 267.591386 \r\nL 206.581295 271.34421 \r\nL 209.164993 275.607797 \r\nL 211.74869 280.375101 \r\nL 218.207933 292.78449 \r\nL 220.79163 297.09166 \r\nL 223.375327 300.745203 \r\nL 225.959024 303.769548 \r\nL 228.542722 306.283351 \r\nL 231.126419 308.4243 \r\nL 233.710116 310.299987 \r\nL 237.585662 312.753871 \r\nL 241.461208 314.873556 \r\nL 245.336754 316.707148 \r\nL 249.212299 318.24493 \r\nL 253.087845 319.457886 \r\nL 256.963391 320.35976 \r\nL 260.838937 321.014644 \r\nL 266.006331 321.609139 \r\nL 271.173726 321.919066 \r\nL 276.34112 321.964798 \r\nL 286.675909 321.739955 \r\nL 293.135152 321.402257 \r\nL 298.302546 321.121342 \r\nL 302.178092 321.136276 \r\nL 306.053638 321.393267 \r\nL 315.096578 322.145135 \r\nL 320.263972 322.31585 \r\nL 324.139518 322.35561 \r\nL 324.139518 322.35561 \r\n\" style=\"fill:none;stroke:#dd8452;stroke-linecap:round;stroke-width:1.5;\"/>\r\n   </g>\r\n   <g id=\"line2d_12\">\r\n    <path clip-path=\"url(#p4742d1fc81)\" d=\"M 60.335801 321.975913 \r\nL 61.66553 321.714022 \r\nL 62.995259 321.304004 \r\nL 64.324987 320.678654 \r\nL 65.654716 319.749444 \r\nL 66.984445 318.404172 \r\nL 68.314174 316.506366 \r\nL 69.643902 313.897319 \r\nL 70.973631 310.401492 \r\nL 72.30336 305.835771 \r\nL 73.633089 300.022493 \r\nL 74.962817 292.805551 \r\nL 76.292546 284.06813 \r\nL 77.622275 273.750026 \r\nL 78.952004 261.862111 \r\nL 80.281732 248.495527 \r\nL 82.94119 218.095845 \r\nL 90.919563 120.37952 \r\nL 92.249291 106.500818 \r\nL 93.57902 93.88079 \r\nL 94.908749 82.594515 \r\nL 96.238478 72.664428 \r\nL 97.568206 64.073003 \r\nL 98.897935 56.775737 \r\nL 100.227664 50.712215 \r\nL 101.557393 45.813845 \r\nL 102.887121 42.007833 \r\nL 104.21685 39.21794 \r\nL 105.546579 37.363219 \r\nL 106.876308 36.35628 \r\nL 108.206036 36.102473 \r\nL 109.535765 36.50099 \r\nL 110.865494 37.448157 \r\nL 112.195223 38.842572 \r\nL 113.524951 40.591099 \r\nL 114.85468 42.614507 \r\nL 117.514138 47.260265 \r\nL 120.173595 52.51267 \r\nL 122.833053 58.319607 \r\nL 125.49251 64.677479 \r\nL 129.481697 75.043139 \r\nL 138.789798 99.910486 \r\nL 141.449255 106.160026 \r\nL 142.778984 108.933671 \r\nL 144.108713 111.41803 \r\nL 145.438442 113.588437 \r\nL 146.76817 115.440925 \r\nL 148.097899 116.995902 \r\nL 149.427628 118.298923 \r\nL 152.087085 120.441403 \r\nL 154.746543 122.596344 \r\nL 156.076272 123.93245 \r\nL 157.406 125.566184 \r\nL 158.735729 127.574211 \r\nL 160.065458 130.013458 \r\nL 161.395187 132.917419 \r\nL 162.724915 136.293737 \r\nL 164.054644 140.123313 \r\nL 166.714102 148.939859 \r\nL 170.703288 163.816755 \r\nL 174.692474 178.42642 \r\nL 177.351932 187.093608 \r\nL 180.011389 194.67462 \r\nL 182.670847 201.24534 \r\nL 185.330304 206.991498 \r\nL 187.989762 212.105111 \r\nL 190.649219 216.730726 \r\nL 193.308677 220.951019 \r\nL 195.968134 224.796007 \r\nL 198.627592 228.273782 \r\nL 201.287049 231.420249 \r\nL 209.265422 240.350234 \r\nL 211.924879 243.870966 \r\nL 214.584337 247.926482 \r\nL 217.243795 252.535902 \r\nL 219.903252 257.634981 \r\nL 223.892438 265.924291 \r\nL 230.541082 279.949508 \r\nL 233.20054 285.041038 \r\nL 235.859997 289.574214 \r\nL 238.519455 293.454214 \r\nL 241.178912 296.667007 \r\nL 243.83837 299.279262 \r\nL 246.497827 301.423517 \r\nL 250.487013 304.135246 \r\nL 257.135657 308.48183 \r\nL 263.784301 312.89272 \r\nL 266.443759 314.387823 \r\nL 269.103216 315.61642 \r\nL 271.762674 316.584329 \r\nL 275.75186 317.693908 \r\nL 282.400504 319.216752 \r\nL 286.38969 319.952304 \r\nL 289.049147 320.256772 \r\nL 291.708605 320.376771 \r\nL 297.02752 320.267411 \r\nL 301.016706 320.279975 \r\nL 303.676164 320.472728 \r\nL 307.66535 320.996461 \r\nL 314.313994 321.891268 \r\nL 318.30318 322.184689 \r\nL 323.622095 322.333628 \r\nL 324.951824 322.347198 \r\nL 324.951824 322.347198 \r\n\" style=\"fill:none;stroke:#4c72b0;stroke-linecap:round;stroke-width:1.5;\"/>\r\n   </g>\r\n   <g id=\"patch_3\">\r\n    <path d=\"M 47.105 322.369375 \r\nL 47.105 21.789375 \r\n\" style=\"fill:none;stroke:#ffffff;stroke-linecap:square;stroke-linejoin:miter;stroke-width:1.25;\"/>\r\n   </g>\r\n   <g id=\"patch_4\">\r\n    <path d=\"M 47.105 322.369375 \r\nL 338.182625 322.369375 \r\n\" style=\"fill:none;stroke:#ffffff;stroke-linecap:square;stroke-linejoin:miter;stroke-width:1.25;\"/>\r\n   </g>\r\n   <g id=\"text_13\">\r\n    <!-- Age -->\r\n    <g style=\"fill:#262626;\" transform=\"translate(181.9685 15.789375)scale(0.12 -0.12)\">\r\n     <use xlink:href=\"#ArialMT-65\"/>\r\n     <use x=\"66.699219\" xlink:href=\"#ArialMT-103\"/>\r\n     <use x=\"122.314453\" xlink:href=\"#ArialMT-101\"/>\r\n    </g>\r\n   </g>\r\n  </g>\r\n  <g id=\"legend_1\">\r\n   <g id=\"text_14\">\r\n    <!-- Income -->\r\n    <g style=\"fill:#262626;\" transform=\"translate(355.724375 169.664453)scale(0.12 -0.12)\">\r\n     <defs>\r\n      <path d=\"M 9.328125 0 \r\nL 9.328125 71.578125 \r\nL 18.796875 71.578125 \r\nL 18.796875 0 \r\nz\r\n\" id=\"ArialMT-73\"/>\r\n      <path d=\"M 40.4375 19 \r\nL 49.078125 17.875 \r\nQ 47.65625 8.9375 41.8125 3.875 \r\nQ 35.984375 -1.171875 27.484375 -1.171875 \r\nQ 16.84375 -1.171875 10.375 5.78125 \r\nQ 3.90625 12.75 3.90625 25.734375 \r\nQ 3.90625 34.125 6.6875 40.421875 \r\nQ 9.46875 46.734375 15.15625 49.875 \r\nQ 20.84375 53.03125 27.546875 53.03125 \r\nQ 35.984375 53.03125 41.359375 48.75 \r\nQ 46.734375 44.484375 48.25 36.625 \r\nL 39.703125 35.296875 \r\nQ 38.484375 40.53125 35.375 43.15625 \r\nQ 32.28125 45.796875 27.875 45.796875 \r\nQ 21.234375 45.796875 17.078125 41.03125 \r\nQ 12.9375 36.28125 12.9375 25.984375 \r\nQ 12.9375 15.53125 16.9375 10.796875 \r\nQ 20.953125 6.0625 27.390625 6.0625 \r\nQ 32.5625 6.0625 36.03125 9.234375 \r\nQ 39.5 12.40625 40.4375 19 \r\nz\r\n\" id=\"ArialMT-99\"/>\r\n      <path d=\"M 3.328125 25.921875 \r\nQ 3.328125 40.328125 11.328125 47.265625 \r\nQ 18.015625 53.03125 27.640625 53.03125 \r\nQ 38.328125 53.03125 45.109375 46.015625 \r\nQ 51.90625 39.015625 51.90625 26.65625 \r\nQ 51.90625 16.65625 48.90625 10.90625 \r\nQ 45.90625 5.171875 40.15625 2 \r\nQ 34.421875 -1.171875 27.640625 -1.171875 \r\nQ 16.75 -1.171875 10.03125 5.8125 \r\nQ 3.328125 12.796875 3.328125 25.921875 \r\nz\r\nM 12.359375 25.921875 \r\nQ 12.359375 15.96875 16.703125 11.015625 \r\nQ 21.046875 6.0625 27.640625 6.0625 \r\nQ 34.1875 6.0625 38.53125 11.03125 \r\nQ 42.875 16.015625 42.875 26.21875 \r\nQ 42.875 35.84375 38.5 40.796875 \r\nQ 34.125 45.75 27.640625 45.75 \r\nQ 21.046875 45.75 16.703125 40.8125 \r\nQ 12.359375 35.890625 12.359375 25.921875 \r\nz\r\n\" id=\"ArialMT-111\"/>\r\n      <path d=\"M 6.59375 0 \r\nL 6.59375 51.859375 \r\nL 14.453125 51.859375 \r\nL 14.453125 44.578125 \r\nQ 16.890625 48.390625 20.9375 50.703125 \r\nQ 25 53.03125 30.171875 53.03125 \r\nQ 35.9375 53.03125 39.625 50.640625 \r\nQ 43.3125 48.25 44.828125 43.953125 \r\nQ 50.984375 53.03125 60.84375 53.03125 \r\nQ 68.5625 53.03125 72.703125 48.75 \r\nQ 76.859375 44.484375 76.859375 35.59375 \r\nL 76.859375 0 \r\nL 68.109375 0 \r\nL 68.109375 32.671875 \r\nQ 68.109375 37.9375 67.25 40.25 \r\nQ 66.40625 42.578125 64.15625 43.984375 \r\nQ 61.921875 45.40625 58.890625 45.40625 \r\nQ 53.421875 45.40625 49.796875 41.765625 \r\nQ 46.1875 38.140625 46.1875 30.125 \r\nL 46.1875 0 \r\nL 37.40625 0 \r\nL 37.40625 33.6875 \r\nQ 37.40625 39.546875 35.25 42.46875 \r\nQ 33.109375 45.40625 28.21875 45.40625 \r\nQ 24.515625 45.40625 21.359375 43.453125 \r\nQ 18.21875 41.5 16.796875 37.734375 \r\nQ 15.375 33.984375 15.375 26.90625 \r\nL 15.375 0 \r\nz\r\n\" id=\"ArialMT-109\"/>\r\n     </defs>\r\n     <use xlink:href=\"#ArialMT-73\"/>\r\n     <use x=\"27.783203\" xlink:href=\"#ArialMT-110\"/>\r\n     <use x=\"83.398438\" xlink:href=\"#ArialMT-99\"/>\r\n     <use x=\"133.398438\" xlink:href=\"#ArialMT-111\"/>\r\n     <use x=\"189.013672\" xlink:href=\"#ArialMT-109\"/>\r\n     <use x=\"272.314453\" xlink:href=\"#ArialMT-101\"/>\r\n    </g>\r\n   </g>\r\n   <g id=\"line2d_13\">\r\n    <path d=\"M 356.940234 181.573047 \r\nL 378.940234 181.573047 \r\n\" style=\"fill:none;stroke:#4c72b0;stroke-linecap:round;stroke-width:1.5;\"/>\r\n   </g>\r\n   <g id=\"line2d_14\"/>\r\n   <g id=\"text_15\">\r\n    <!-- 0 -->\r\n    <g style=\"fill:#262626;\" transform=\"translate(387.740234 185.423047)scale(0.11 -0.11)\">\r\n     <use xlink:href=\"#ArialMT-48\"/>\r\n    </g>\r\n   </g>\r\n   <g id=\"line2d_15\">\r\n    <path d=\"M 356.940234 197.132891 \r\nL 378.940234 197.132891 \r\n\" style=\"fill:none;stroke:#dd8452;stroke-linecap:round;stroke-width:1.5;\"/>\r\n   </g>\r\n   <g id=\"line2d_16\"/>\r\n   <g id=\"text_16\">\r\n    <!-- 1 -->\r\n    <g style=\"fill:#262626;\" transform=\"translate(387.740234 200.982891)scale(0.11 -0.11)\">\r\n     <use xlink:href=\"#ArialMT-49\"/>\r\n    </g>\r\n   </g>\r\n  </g>\r\n </g>\r\n <defs>\r\n  <clipPath id=\"p4742d1fc81\">\r\n   <rect height=\"300.58\" width=\"291.077625\" x=\"47.105\" y=\"21.789375\"/>\r\n  </clipPath>\r\n </defs>\r\n</svg>\r\n",
      "image/png": "[encoded data removed]"
     },
     "metadata": {}
    }
   ],
   "source": [
    "plt.figure(figsize=(10, 8))\n",
    "sns.displot(prova, x='Age', kind=\"kde\", hue='Income')\n",
    "plt.title('Age')\n",
    "plt.show()"
   ]
  },
  {
   "cell_type": "code",
   "execution_count": 340,
   "metadata": {},
   "outputs": [
    {
     "output_type": "display_data",
     "data": {
      "text/plain": "<Figure size 720x576 with 0 Axes>"
     },
     "metadata": {}
    },
    {
     "output_type": "display_data",
     "data": {
      "text/plain": "<Figure size 420.675x360 with 1 Axes>",
      "image/svg+xml": "<?xml version=\"1.0\" encoding=\"utf-8\" standalone=\"no\"?>\r\n<!DOCTYPE svg PUBLIC \"-//W3C//DTD SVG 1.1//EN\"\r\n  \"http://www.w3.org/Graphics/SVG/1.1/DTD/svg11.dtd\">\r\n<!-- Created with matplotlib (https://matplotlib.org/) -->\r\n<svg height=\"360.670909pt\" version=\"1.1\" viewBox=\"0 0 417.598125 360.670909\" width=\"417.598125pt\" xmlns=\"http://www.w3.org/2000/svg\" xmlns:xlink=\"http://www.w3.org/1999/xlink\">\r\n <metadata>\r\n  <rdf:RDF xmlns:cc=\"http://creativecommons.org/ns#\" xmlns:dc=\"http://purl.org/dc/elements/1.1/\" xmlns:rdf=\"http://www.w3.org/1999/02/22-rdf-syntax-ns#\">\r\n   <cc:Work>\r\n    <dc:type rdf:resource=\"http://purl.org/dc/dcmitype/StillImage\"/>\r\n    <dc:date>2020-12-24T16:16:07.328288</dc:date>\r\n    <dc:format>image/svg+xml</dc:format>\r\n    <dc:creator>\r\n     <cc:Agent>\r\n      <dc:title>Matplotlib v3.3.2, https://matplotlib.org/</dc:title>\r\n     </cc:Agent>\r\n    </dc:creator>\r\n   </cc:Work>\r\n  </rdf:RDF>\r\n </metadata>\r\n <defs>\r\n  <style type=\"text/css\">*{stroke-linecap:butt;stroke-linejoin:round;}</style>\r\n </defs>\r\n <g id=\"figure_1\">\r\n  <g id=\"patch_1\">\r\n   <path d=\"M 0 360.670909 \r\nL 417.598125 360.670909 \r\nL 417.598125 0 \r\nL 0 0 \r\nz\r\n\" style=\"fill:#ffffff;\"/>\r\n  </g>\r\n  <g id=\"axes_1\">\r\n   <g id=\"patch_2\">\r\n    <path d=\"M 47.105 318.796065 \r\nL 338.056375 318.796065 \r\nL 338.056375 21.789375 \r\nL 47.105 21.789375 \r\nz\r\n\" style=\"fill:#eaeaf2;\"/>\r\n   </g>\r\n   <g id=\"matplotlib.axis_1\">\r\n    <g id=\"xtick_1\">\r\n     <g id=\"line2d_1\">\r\n      <path clip-path=\"url(#p1291d9d801)\" d=\"M 87.361295 318.796065 \r\nL 87.361295 21.789375 \r\n\" style=\"fill:none;stroke:#ffffff;stroke-linecap:round;\"/>\r\n     </g>\r\n     <g id=\"text_1\">\r\n      <!-- −1 -->\r\n      <g style=\"fill:#262626;\" transform=\"translate(81.090435 336.169659)scale(0.11 -0.11)\">\r\n       <defs>\r\n        <path d=\"M 52.828125 31.203125 \r\nL 5.5625 31.203125 \r\nL 5.5625 39.40625 \r\nL 52.828125 39.40625 \r\nz\r\n\" id=\"ArialMT-8722\"/>\r\n        <path d=\"M 37.25 0 \r\nL 28.46875 0 \r\nL 28.46875 56 \r\nQ 25.296875 52.984375 20.140625 49.953125 \r\nQ 14.984375 46.921875 10.890625 45.40625 \r\nL 10.890625 53.90625 \r\nQ 18.265625 57.375 23.78125 62.296875 \r\nQ 29.296875 67.234375 31.59375 71.875 \r\nL 37.25 71.875 \r\nz\r\n\" id=\"ArialMT-49\"/>\r\n       </defs>\r\n       <use xlink:href=\"#ArialMT-8722\"/>\r\n       <use x=\"58.398438\" xlink:href=\"#ArialMT-49\"/>\r\n      </g>\r\n     </g>\r\n    </g>\r\n    <g id=\"xtick_2\">\r\n     <g id=\"line2d_2\">\r\n      <path clip-path=\"url(#p1291d9d801)\" d=\"M 143.675899 318.796065 \r\nL 143.675899 21.789375 \r\n\" style=\"fill:none;stroke:#ffffff;stroke-linecap:round;\"/>\r\n     </g>\r\n     <g id=\"text_2\">\r\n      <!-- 0 -->\r\n      <g style=\"fill:#262626;\" transform=\"translate(140.617384 336.169659)scale(0.11 -0.11)\">\r\n       <defs>\r\n        <path d=\"M 4.15625 35.296875 \r\nQ 4.15625 48 6.765625 55.734375 \r\nQ 9.375 63.484375 14.515625 67.671875 \r\nQ 19.671875 71.875 27.484375 71.875 \r\nQ 33.25 71.875 37.59375 69.546875 \r\nQ 41.9375 67.234375 44.765625 62.859375 \r\nQ 47.609375 58.5 49.21875 52.21875 \r\nQ 50.828125 45.953125 50.828125 35.296875 \r\nQ 50.828125 22.703125 48.234375 14.96875 \r\nQ 45.65625 7.234375 40.5 3 \r\nQ 35.359375 -1.21875 27.484375 -1.21875 \r\nQ 17.140625 -1.21875 11.234375 6.203125 \r\nQ 4.15625 15.140625 4.15625 35.296875 \r\nz\r\nM 13.1875 35.296875 \r\nQ 13.1875 17.671875 17.3125 11.828125 \r\nQ 21.4375 6 27.484375 6 \r\nQ 33.546875 6 37.671875 11.859375 \r\nQ 41.796875 17.71875 41.796875 35.296875 \r\nQ 41.796875 52.984375 37.671875 58.78125 \r\nQ 33.546875 64.59375 27.390625 64.59375 \r\nQ 21.34375 64.59375 17.71875 59.46875 \r\nQ 13.1875 52.9375 13.1875 35.296875 \r\nz\r\n\" id=\"ArialMT-48\"/>\r\n       </defs>\r\n       <use xlink:href=\"#ArialMT-48\"/>\r\n      </g>\r\n     </g>\r\n    </g>\r\n    <g id=\"xtick_3\">\r\n     <g id=\"line2d_3\">\r\n      <path clip-path=\"url(#p1291d9d801)\" d=\"M 199.990504 318.796065 \r\nL 199.990504 21.789375 \r\n\" style=\"fill:none;stroke:#ffffff;stroke-linecap:round;\"/>\r\n     </g>\r\n     <g id=\"text_3\">\r\n      <!-- 1 -->\r\n      <g style=\"fill:#262626;\" transform=\"translate(196.931988 336.169659)scale(0.11 -0.11)\">\r\n       <use xlink:href=\"#ArialMT-49\"/>\r\n      </g>\r\n     </g>\r\n    </g>\r\n    <g id=\"xtick_4\">\r\n     <g id=\"line2d_4\">\r\n      <path clip-path=\"url(#p1291d9d801)\" d=\"M 256.305108 318.796065 \r\nL 256.305108 21.789375 \r\n\" style=\"fill:none;stroke:#ffffff;stroke-linecap:round;\"/>\r\n     </g>\r\n     <g id=\"text_4\">\r\n      <!-- 2 -->\r\n      <g style=\"fill:#262626;\" transform=\"translate(253.246593 336.169659)scale(0.11 -0.11)\">\r\n       <defs>\r\n        <path d=\"M 50.34375 8.453125 \r\nL 50.34375 0 \r\nL 3.03125 0 \r\nQ 2.9375 3.171875 4.046875 6.109375 \r\nQ 5.859375 10.9375 9.828125 15.625 \r\nQ 13.8125 20.3125 21.34375 26.46875 \r\nQ 33.015625 36.03125 37.109375 41.625 \r\nQ 41.21875 47.21875 41.21875 52.203125 \r\nQ 41.21875 57.421875 37.46875 61 \r\nQ 33.734375 64.59375 27.734375 64.59375 \r\nQ 21.390625 64.59375 17.578125 60.78125 \r\nQ 13.765625 56.984375 13.71875 50.25 \r\nL 4.6875 51.171875 \r\nQ 5.609375 61.28125 11.65625 66.578125 \r\nQ 17.71875 71.875 27.9375 71.875 \r\nQ 38.234375 71.875 44.234375 66.15625 \r\nQ 50.25 60.453125 50.25 52 \r\nQ 50.25 47.703125 48.484375 43.546875 \r\nQ 46.734375 39.40625 42.65625 34.8125 \r\nQ 38.578125 30.21875 29.109375 22.21875 \r\nQ 21.1875 15.578125 18.9375 13.203125 \r\nQ 16.703125 10.84375 15.234375 8.453125 \r\nz\r\n\" id=\"ArialMT-50\"/>\r\n       </defs>\r\n       <use xlink:href=\"#ArialMT-50\"/>\r\n      </g>\r\n     </g>\r\n    </g>\r\n    <g id=\"xtick_5\">\r\n     <g id=\"line2d_5\">\r\n      <path clip-path=\"url(#p1291d9d801)\" d=\"M 312.619713 318.796065 \r\nL 312.619713 21.789375 \r\n\" style=\"fill:none;stroke:#ffffff;stroke-linecap:round;\"/>\r\n     </g>\r\n     <g id=\"text_5\">\r\n      <!-- 3 -->\r\n      <g style=\"fill:#262626;\" transform=\"translate(309.561197 336.169659)scale(0.11 -0.11)\">\r\n       <defs>\r\n        <path d=\"M 4.203125 18.890625 \r\nL 12.984375 20.0625 \r\nQ 14.5 12.59375 18.140625 9.296875 \r\nQ 21.78125 6 27 6 \r\nQ 33.203125 6 37.46875 10.296875 \r\nQ 41.75 14.59375 41.75 20.953125 \r\nQ 41.75 27 37.796875 30.921875 \r\nQ 33.84375 34.859375 27.734375 34.859375 \r\nQ 25.25 34.859375 21.53125 33.890625 \r\nL 22.515625 41.609375 \r\nQ 23.390625 41.5 23.921875 41.5 \r\nQ 29.546875 41.5 34.03125 44.421875 \r\nQ 38.53125 47.359375 38.53125 53.46875 \r\nQ 38.53125 58.296875 35.25 61.46875 \r\nQ 31.984375 64.65625 26.8125 64.65625 \r\nQ 21.6875 64.65625 18.265625 61.421875 \r\nQ 14.84375 58.203125 13.875 51.765625 \r\nL 5.078125 53.328125 \r\nQ 6.6875 62.15625 12.390625 67.015625 \r\nQ 18.109375 71.875 26.609375 71.875 \r\nQ 32.46875 71.875 37.390625 69.359375 \r\nQ 42.328125 66.84375 44.9375 62.5 \r\nQ 47.5625 58.15625 47.5625 53.265625 \r\nQ 47.5625 48.640625 45.0625 44.828125 \r\nQ 42.578125 41.015625 37.703125 38.765625 \r\nQ 44.046875 37.3125 47.5625 32.6875 \r\nQ 51.078125 28.078125 51.078125 21.140625 \r\nQ 51.078125 11.765625 44.234375 5.25 \r\nQ 37.40625 -1.265625 26.953125 -1.265625 \r\nQ 17.53125 -1.265625 11.296875 4.34375 \r\nQ 5.078125 9.96875 4.203125 18.890625 \r\nz\r\n\" id=\"ArialMT-51\"/>\r\n       </defs>\r\n       <use xlink:href=\"#ArialMT-51\"/>\r\n      </g>\r\n     </g>\r\n    </g>\r\n    <g id=\"text_6\">\r\n     <!-- Age -->\r\n     <g style=\"fill:#262626;\" transform=\"translate(181.905375 350.945284)scale(0.12 -0.12)\">\r\n      <defs>\r\n       <path d=\"M -0.140625 0 \r\nL 27.34375 71.578125 \r\nL 37.546875 71.578125 \r\nL 66.84375 0 \r\nL 56.0625 0 \r\nL 47.703125 21.6875 \r\nL 17.78125 21.6875 \r\nL 9.90625 0 \r\nz\r\nM 20.515625 29.390625 \r\nL 44.78125 29.390625 \r\nL 37.3125 49.21875 \r\nQ 33.890625 58.25 32.234375 64.0625 \r\nQ 30.859375 57.171875 28.375 50.390625 \r\nz\r\n\" id=\"ArialMT-65\"/>\r\n       <path d=\"M 4.984375 -4.296875 \r\nL 13.53125 -5.5625 \r\nQ 14.0625 -9.515625 16.5 -11.328125 \r\nQ 19.78125 -13.765625 25.4375 -13.765625 \r\nQ 31.546875 -13.765625 34.859375 -11.328125 \r\nQ 38.1875 -8.890625 39.359375 -4.5 \r\nQ 40.046875 -1.8125 39.984375 6.78125 \r\nQ 34.234375 0 25.640625 0 \r\nQ 14.9375 0 9.078125 7.71875 \r\nQ 3.21875 15.4375 3.21875 26.21875 \r\nQ 3.21875 33.640625 5.90625 39.90625 \r\nQ 8.59375 46.1875 13.6875 49.609375 \r\nQ 18.796875 53.03125 25.6875 53.03125 \r\nQ 34.859375 53.03125 40.828125 45.609375 \r\nL 40.828125 51.859375 \r\nL 48.921875 51.859375 \r\nL 48.921875 7.03125 \r\nQ 48.921875 -5.078125 46.453125 -10.125 \r\nQ 44 -15.1875 38.640625 -18.109375 \r\nQ 33.296875 -21.046875 25.484375 -21.046875 \r\nQ 16.21875 -21.046875 10.5 -16.875 \r\nQ 4.78125 -12.703125 4.984375 -4.296875 \r\nz\r\nM 12.25 26.859375 \r\nQ 12.25 16.65625 16.296875 11.96875 \r\nQ 20.359375 7.28125 26.46875 7.28125 \r\nQ 32.515625 7.28125 36.609375 11.9375 \r\nQ 40.71875 16.609375 40.71875 26.5625 \r\nQ 40.71875 36.078125 36.5 40.90625 \r\nQ 32.28125 45.75 26.3125 45.75 \r\nQ 20.453125 45.75 16.34375 40.984375 \r\nQ 12.25 36.234375 12.25 26.859375 \r\nz\r\n\" id=\"ArialMT-103\"/>\r\n       <path d=\"M 42.09375 16.703125 \r\nL 51.171875 15.578125 \r\nQ 49.03125 7.625 43.21875 3.21875 \r\nQ 37.40625 -1.171875 28.375 -1.171875 \r\nQ 17 -1.171875 10.328125 5.828125 \r\nQ 3.65625 12.84375 3.65625 25.484375 \r\nQ 3.65625 38.578125 10.390625 45.796875 \r\nQ 17.140625 53.03125 27.875 53.03125 \r\nQ 38.28125 53.03125 44.875 45.953125 \r\nQ 51.46875 38.875 51.46875 26.03125 \r\nQ 51.46875 25.25 51.421875 23.6875 \r\nL 12.75 23.6875 \r\nQ 13.234375 15.140625 17.578125 10.59375 \r\nQ 21.921875 6.0625 28.421875 6.0625 \r\nQ 33.25 6.0625 36.671875 8.59375 \r\nQ 40.09375 11.140625 42.09375 16.703125 \r\nz\r\nM 13.234375 30.90625 \r\nL 42.1875 30.90625 \r\nQ 41.609375 37.453125 38.875 40.71875 \r\nQ 34.671875 45.796875 27.984375 45.796875 \r\nQ 21.921875 45.796875 17.796875 41.75 \r\nQ 13.671875 37.703125 13.234375 30.90625 \r\nz\r\n\" id=\"ArialMT-101\"/>\r\n      </defs>\r\n      <use xlink:href=\"#ArialMT-65\"/>\r\n      <use x=\"66.699219\" xlink:href=\"#ArialMT-103\"/>\r\n      <use x=\"122.314453\" xlink:href=\"#ArialMT-101\"/>\r\n     </g>\r\n    </g>\r\n   </g>\r\n   <g id=\"matplotlib.axis_2\">\r\n    <g id=\"ytick_1\">\r\n     <g id=\"line2d_6\">\r\n      <path clip-path=\"url(#p1291d9d801)\" d=\"M 47.105 318.796065 \r\nL 338.056375 318.796065 \r\n\" style=\"fill:none;stroke:#ffffff;stroke-linecap:round;\"/>\r\n     </g>\r\n     <g id=\"text_7\">\r\n      <!-- 0.0 -->\r\n      <g style=\"fill:#262626;\" transform=\"translate(22.315 322.732862)scale(0.11 -0.11)\">\r\n       <defs>\r\n        <path d=\"M 9.078125 0 \r\nL 9.078125 10.015625 \r\nL 19.09375 10.015625 \r\nL 19.09375 0 \r\nz\r\n\" id=\"ArialMT-46\"/>\r\n       </defs>\r\n       <use xlink:href=\"#ArialMT-48\"/>\r\n       <use x=\"55.615234\" xlink:href=\"#ArialMT-46\"/>\r\n       <use x=\"83.398438\" xlink:href=\"#ArialMT-48\"/>\r\n      </g>\r\n     </g>\r\n    </g>\r\n    <g id=\"ytick_2\">\r\n     <g id=\"line2d_7\">\r\n      <path clip-path=\"url(#p1291d9d801)\" d=\"M 47.105 259.476336 \r\nL 338.056375 259.476336 \r\n\" style=\"fill:none;stroke:#ffffff;stroke-linecap:round;\"/>\r\n     </g>\r\n     <g id=\"text_8\">\r\n      <!-- 0.1 -->\r\n      <g style=\"fill:#262626;\" transform=\"translate(22.315 263.413133)scale(0.11 -0.11)\">\r\n       <use xlink:href=\"#ArialMT-48\"/>\r\n       <use x=\"55.615234\" xlink:href=\"#ArialMT-46\"/>\r\n       <use x=\"83.398438\" xlink:href=\"#ArialMT-49\"/>\r\n      </g>\r\n     </g>\r\n    </g>\r\n    <g id=\"ytick_3\">\r\n     <g id=\"line2d_8\">\r\n      <path clip-path=\"url(#p1291d9d801)\" d=\"M 47.105 200.156606 \r\nL 338.056375 200.156606 \r\n\" style=\"fill:none;stroke:#ffffff;stroke-linecap:round;\"/>\r\n     </g>\r\n     <g id=\"text_9\">\r\n      <!-- 0.2 -->\r\n      <g style=\"fill:#262626;\" transform=\"translate(22.315 204.093403)scale(0.11 -0.11)\">\r\n       <use xlink:href=\"#ArialMT-48\"/>\r\n       <use x=\"55.615234\" xlink:href=\"#ArialMT-46\"/>\r\n       <use x=\"83.398438\" xlink:href=\"#ArialMT-50\"/>\r\n      </g>\r\n     </g>\r\n    </g>\r\n    <g id=\"ytick_4\">\r\n     <g id=\"line2d_9\">\r\n      <path clip-path=\"url(#p1291d9d801)\" d=\"M 47.105 140.836877 \r\nL 338.056375 140.836877 \r\n\" style=\"fill:none;stroke:#ffffff;stroke-linecap:round;\"/>\r\n     </g>\r\n     <g id=\"text_10\">\r\n      <!-- 0.3 -->\r\n      <g style=\"fill:#262626;\" transform=\"translate(22.315 144.773674)scale(0.11 -0.11)\">\r\n       <use xlink:href=\"#ArialMT-48\"/>\r\n       <use x=\"55.615234\" xlink:href=\"#ArialMT-46\"/>\r\n       <use x=\"83.398438\" xlink:href=\"#ArialMT-51\"/>\r\n      </g>\r\n     </g>\r\n    </g>\r\n    <g id=\"ytick_5\">\r\n     <g id=\"line2d_10\">\r\n      <path clip-path=\"url(#p1291d9d801)\" d=\"M 47.105 81.517147 \r\nL 338.056375 81.517147 \r\n\" style=\"fill:none;stroke:#ffffff;stroke-linecap:round;\"/>\r\n     </g>\r\n     <g id=\"text_11\">\r\n      <!-- 0.4 -->\r\n      <g style=\"fill:#262626;\" transform=\"translate(22.315 85.453944)scale(0.11 -0.11)\">\r\n       <defs>\r\n        <path d=\"M 32.328125 0 \r\nL 32.328125 17.140625 \r\nL 1.265625 17.140625 \r\nL 1.265625 25.203125 \r\nL 33.9375 71.578125 \r\nL 41.109375 71.578125 \r\nL 41.109375 25.203125 \r\nL 50.78125 25.203125 \r\nL 50.78125 17.140625 \r\nL 41.109375 17.140625 \r\nL 41.109375 0 \r\nz\r\nM 32.328125 25.203125 \r\nL 32.328125 57.46875 \r\nL 9.90625 25.203125 \r\nz\r\n\" id=\"ArialMT-52\"/>\r\n       </defs>\r\n       <use xlink:href=\"#ArialMT-48\"/>\r\n       <use x=\"55.615234\" xlink:href=\"#ArialMT-46\"/>\r\n       <use x=\"83.398438\" xlink:href=\"#ArialMT-52\"/>\r\n      </g>\r\n     </g>\r\n    </g>\r\n    <g id=\"ytick_6\">\r\n     <g id=\"line2d_11\">\r\n      <path clip-path=\"url(#p1291d9d801)\" d=\"M 47.105 22.197418 \r\nL 338.056375 22.197418 \r\n\" style=\"fill:none;stroke:#ffffff;stroke-linecap:round;\"/>\r\n     </g>\r\n     <g id=\"text_12\">\r\n      <!-- 0.5 -->\r\n      <g style=\"fill:#262626;\" transform=\"translate(22.315 26.134214)scale(0.11 -0.11)\">\r\n       <defs>\r\n        <path d=\"M 4.15625 18.75 \r\nL 13.375 19.53125 \r\nQ 14.40625 12.796875 18.140625 9.390625 \r\nQ 21.875 6 27.15625 6 \r\nQ 33.5 6 37.890625 10.78125 \r\nQ 42.28125 15.578125 42.28125 23.484375 \r\nQ 42.28125 31 38.0625 35.34375 \r\nQ 33.84375 39.703125 27 39.703125 \r\nQ 22.75 39.703125 19.328125 37.765625 \r\nQ 15.921875 35.84375 13.96875 32.765625 \r\nL 5.71875 33.84375 \r\nL 12.640625 70.609375 \r\nL 48.25 70.609375 \r\nL 48.25 62.203125 \r\nL 19.671875 62.203125 \r\nL 15.828125 42.96875 \r\nQ 22.265625 47.46875 29.34375 47.46875 \r\nQ 38.71875 47.46875 45.15625 40.96875 \r\nQ 51.609375 34.46875 51.609375 24.265625 \r\nQ 51.609375 14.546875 45.953125 7.46875 \r\nQ 39.0625 -1.21875 27.15625 -1.21875 \r\nQ 17.390625 -1.21875 11.203125 4.25 \r\nQ 5.03125 9.71875 4.15625 18.75 \r\nz\r\n\" id=\"ArialMT-53\"/>\r\n       </defs>\r\n       <use xlink:href=\"#ArialMT-48\"/>\r\n       <use x=\"55.615234\" xlink:href=\"#ArialMT-46\"/>\r\n       <use x=\"83.398438\" xlink:href=\"#ArialMT-53\"/>\r\n      </g>\r\n     </g>\r\n    </g>\r\n    <g id=\"text_13\">\r\n     <!-- Density -->\r\n     <g style=\"fill:#262626;\" transform=\"translate(15.789375 190.29897)rotate(-90)scale(0.12 -0.12)\">\r\n      <defs>\r\n       <path d=\"M 7.71875 0 \r\nL 7.71875 71.578125 \r\nL 32.375 71.578125 \r\nQ 40.71875 71.578125 45.125 70.5625 \r\nQ 51.265625 69.140625 55.609375 65.4375 \r\nQ 61.28125 60.640625 64.078125 53.1875 \r\nQ 66.890625 45.75 66.890625 36.1875 \r\nQ 66.890625 28.03125 64.984375 21.734375 \r\nQ 63.09375 15.4375 60.109375 11.296875 \r\nQ 57.125 7.171875 53.578125 4.796875 \r\nQ 50.046875 2.4375 45.046875 1.21875 \r\nQ 40.046875 0 33.546875 0 \r\nz\r\nM 17.1875 8.453125 \r\nL 32.46875 8.453125 \r\nQ 39.546875 8.453125 43.578125 9.765625 \r\nQ 47.609375 11.078125 50 13.484375 \r\nQ 53.375 16.84375 55.25 22.53125 \r\nQ 57.125 28.21875 57.125 36.328125 \r\nQ 57.125 47.5625 53.4375 53.59375 \r\nQ 49.75 59.625 44.484375 61.671875 \r\nQ 40.671875 63.140625 32.234375 63.140625 \r\nL 17.1875 63.140625 \r\nz\r\n\" id=\"ArialMT-68\"/>\r\n       <path d=\"M 6.59375 0 \r\nL 6.59375 51.859375 \r\nL 14.5 51.859375 \r\nL 14.5 44.484375 \r\nQ 20.21875 53.03125 31 53.03125 \r\nQ 35.6875 53.03125 39.625 51.34375 \r\nQ 43.5625 49.65625 45.515625 46.921875 \r\nQ 47.46875 44.1875 48.25 40.4375 \r\nQ 48.734375 37.984375 48.734375 31.890625 \r\nL 48.734375 0 \r\nL 39.9375 0 \r\nL 39.9375 31.546875 \r\nQ 39.9375 36.921875 38.90625 39.578125 \r\nQ 37.890625 42.234375 35.28125 43.8125 \r\nQ 32.671875 45.40625 29.15625 45.40625 \r\nQ 23.53125 45.40625 19.453125 41.84375 \r\nQ 15.375 38.28125 15.375 28.328125 \r\nL 15.375 0 \r\nz\r\n\" id=\"ArialMT-110\"/>\r\n       <path d=\"M 3.078125 15.484375 \r\nL 11.765625 16.84375 \r\nQ 12.5 11.625 15.84375 8.84375 \r\nQ 19.1875 6.0625 25.203125 6.0625 \r\nQ 31.25 6.0625 34.171875 8.515625 \r\nQ 37.109375 10.984375 37.109375 14.3125 \r\nQ 37.109375 17.28125 34.515625 19 \r\nQ 32.71875 20.171875 25.53125 21.96875 \r\nQ 15.875 24.421875 12.140625 26.203125 \r\nQ 8.40625 27.984375 6.46875 31.125 \r\nQ 4.546875 34.28125 4.546875 38.09375 \r\nQ 4.546875 41.546875 6.125 44.5 \r\nQ 7.71875 47.46875 10.453125 49.421875 \r\nQ 12.5 50.921875 16.03125 51.96875 \r\nQ 19.578125 53.03125 23.640625 53.03125 \r\nQ 29.734375 53.03125 34.34375 51.265625 \r\nQ 38.96875 49.515625 41.15625 46.5 \r\nQ 43.359375 43.5 44.1875 38.484375 \r\nL 35.59375 37.3125 \r\nQ 35.015625 41.3125 32.203125 43.546875 \r\nQ 29.390625 45.796875 24.265625 45.796875 \r\nQ 18.21875 45.796875 15.625 43.796875 \r\nQ 13.03125 41.796875 13.03125 39.109375 \r\nQ 13.03125 37.40625 14.109375 36.03125 \r\nQ 15.1875 34.625 17.484375 33.6875 \r\nQ 18.796875 33.203125 25.25 31.453125 \r\nQ 34.578125 28.953125 38.25 27.359375 \r\nQ 41.9375 25.78125 44.03125 22.75 \r\nQ 46.140625 19.734375 46.140625 15.234375 \r\nQ 46.140625 10.84375 43.578125 6.953125 \r\nQ 41.015625 3.078125 36.171875 0.953125 \r\nQ 31.34375 -1.171875 25.25 -1.171875 \r\nQ 15.140625 -1.171875 9.84375 3.03125 \r\nQ 4.546875 7.234375 3.078125 15.484375 \r\nz\r\n\" id=\"ArialMT-115\"/>\r\n       <path d=\"M 6.640625 61.46875 \r\nL 6.640625 71.578125 \r\nL 15.4375 71.578125 \r\nL 15.4375 61.46875 \r\nz\r\nM 6.640625 0 \r\nL 6.640625 51.859375 \r\nL 15.4375 51.859375 \r\nL 15.4375 0 \r\nz\r\n\" id=\"ArialMT-105\"/>\r\n       <path d=\"M 25.78125 7.859375 \r\nL 27.046875 0.09375 \r\nQ 23.34375 -0.6875 20.40625 -0.6875 \r\nQ 15.625 -0.6875 12.984375 0.828125 \r\nQ 10.359375 2.34375 9.28125 4.8125 \r\nQ 8.203125 7.28125 8.203125 15.1875 \r\nL 8.203125 45.015625 \r\nL 1.765625 45.015625 \r\nL 1.765625 51.859375 \r\nL 8.203125 51.859375 \r\nL 8.203125 64.703125 \r\nL 16.9375 69.96875 \r\nL 16.9375 51.859375 \r\nL 25.78125 51.859375 \r\nL 25.78125 45.015625 \r\nL 16.9375 45.015625 \r\nL 16.9375 14.703125 \r\nQ 16.9375 10.9375 17.40625 9.859375 \r\nQ 17.875 8.796875 18.921875 8.15625 \r\nQ 19.96875 7.515625 21.921875 7.515625 \r\nQ 23.390625 7.515625 25.78125 7.859375 \r\nz\r\n\" id=\"ArialMT-116\"/>\r\n       <path d=\"M 6.203125 -19.96875 \r\nL 5.21875 -11.71875 \r\nQ 8.109375 -12.5 10.25 -12.5 \r\nQ 13.1875 -12.5 14.9375 -11.515625 \r\nQ 16.703125 -10.546875 17.828125 -8.796875 \r\nQ 18.65625 -7.46875 20.515625 -2.25 \r\nQ 20.75 -1.515625 21.296875 -0.09375 \r\nL 1.609375 51.859375 \r\nL 11.078125 51.859375 \r\nL 21.875 21.828125 \r\nQ 23.96875 16.109375 25.640625 9.8125 \r\nQ 27.15625 15.875 29.25 21.625 \r\nL 40.328125 51.859375 \r\nL 49.125 51.859375 \r\nL 29.390625 -0.875 \r\nQ 26.21875 -9.421875 24.46875 -12.640625 \r\nQ 22.125 -17 19.09375 -19.015625 \r\nQ 16.0625 -21.046875 11.859375 -21.046875 \r\nQ 9.328125 -21.046875 6.203125 -19.96875 \r\nz\r\n\" id=\"ArialMT-121\"/>\r\n      </defs>\r\n      <use xlink:href=\"#ArialMT-68\"/>\r\n      <use x=\"72.216797\" xlink:href=\"#ArialMT-101\"/>\r\n      <use x=\"127.832031\" xlink:href=\"#ArialMT-110\"/>\r\n      <use x=\"183.447266\" xlink:href=\"#ArialMT-115\"/>\r\n      <use x=\"233.447266\" xlink:href=\"#ArialMT-105\"/>\r\n      <use x=\"255.664062\" xlink:href=\"#ArialMT-116\"/>\r\n      <use x=\"283.447266\" xlink:href=\"#ArialMT-121\"/>\r\n     </g>\r\n    </g>\r\n   </g>\r\n   <g id=\"line2d_12\">\r\n    <path clip-path=\"url(#p1291d9d801)\" d=\"M 73.82588 318.790192 \r\nL 83.093005 318.6618 \r\nL 88.241407 318.37014 \r\nL 93.38981 317.833676 \r\nL 97.508532 317.215731 \r\nL 100.597573 316.57647 \r\nL 102.656934 316.005266 \r\nL 104.716295 315.260368 \r\nL 106.775657 314.281504 \r\nL 108.835018 313.001934 \r\nL 110.894379 311.352436 \r\nL 112.95374 309.266973 \r\nL 115.013101 306.689691 \r\nL 117.072462 303.581912 \r\nL 119.131823 299.92821 \r\nL 121.191184 295.742593 \r\nL 123.250545 291.077174 \r\nL 126.339586 283.419138 \r\nL 130.458308 272.981033 \r\nL 132.517669 268.223227 \r\nL 134.57703 264.081404 \r\nL 136.636392 260.68114 \r\nL 138.695753 258.01774 \r\nL 140.755114 255.963008 \r\nL 142.814475 254.313376 \r\nL 147.962877 250.735489 \r\nL 155.170641 245.773022 \r\nL 158.259682 243.937572 \r\nL 160.319043 242.889238 \r\nL 162.378404 242.048982 \r\nL 164.437765 241.519596 \r\nL 165.467446 241.410482 \r\nL 166.497127 241.425014 \r\nL 167.526807 241.574776 \r\nL 168.556488 241.866831 \r\nL 169.586168 242.30259 \r\nL 170.615849 242.877236 \r\nL 172.67521 244.393856 \r\nL 174.734571 246.271825 \r\nL 181.942334 253.326088 \r\nL 186.061056 256.871507 \r\nL 190.179778 260.415087 \r\nL 193.26882 263.37919 \r\nL 195.328181 265.592905 \r\nL 197.387542 268.028542 \r\nL 200.476584 272.091074 \r\nL 204.595306 278.033868 \r\nL 208.714028 283.975712 \r\nL 211.803069 288.065632 \r\nL 214.892111 291.774044 \r\nL 220.040513 297.482923 \r\nL 225.188916 302.960036 \r\nL 228.277958 305.944609 \r\nL 230.337319 307.697653 \r\nL 232.39668 309.224043 \r\nL 234.456041 310.521821 \r\nL 236.515402 311.614285 \r\nL 239.604443 312.958364 \r\nL 243.723165 314.424297 \r\nL 248.871568 315.973231 \r\nL 252.99029 316.964607 \r\nL 257.109012 317.695692 \r\nL 261.227734 318.197429 \r\nL 266.376137 318.570758 \r\nL 272.55422 318.751557 \r\nL 278.732303 318.791202 \r\nL 278.732303 318.791202 \r\n\" style=\"fill:none;stroke:#dd8452;stroke-linecap:round;stroke-width:1.5;\"/>\r\n   </g>\r\n   <g id=\"line2d_13\">\r\n    <path clip-path=\"url(#p1291d9d801)\" d=\"M 60.330063 318.425991 \r\nL 61.659215 318.175897 \r\nL 62.988367 317.782355 \r\nL 64.317519 317.17948 \r\nL 65.646671 316.280306 \r\nL 66.975823 314.974497 \r\nL 68.304975 313.127876 \r\nL 69.634127 310.584657 \r\nL 70.963279 307.173116 \r\nL 72.292431 302.715153 \r\nL 73.621583 297.039607 \r\nL 74.950735 289.998527 \r\nL 76.279887 281.484839 \r\nL 77.609039 271.449241 \r\nL 78.938191 259.913807 \r\nL 80.267343 246.979879 \r\nL 82.925647 217.711654 \r\nL 89.571407 139.027925 \r\nL 92.229711 111.711072 \r\nL 93.558863 99.713654 \r\nL 94.888015 88.898274 \r\nL 96.217167 79.260931 \r\nL 97.546319 70.766447 \r\nL 98.875471 63.362175 \r\nL 100.204623 56.988772 \r\nL 101.533775 51.586777 \r\nL 102.862927 47.098855 \r\nL 104.192079 43.468586 \r\nL 105.521231 40.637383 \r\nL 106.850383 38.541373 \r\nL 108.179535 37.109852 \r\nL 109.508687 36.26633 \r\nL 110.837839 35.932319 \r\nL 112.166991 36.033226 \r\nL 113.496143 36.505012 \r\nL 114.825295 37.300016 \r\nL 116.154447 38.390386 \r\nL 117.483599 39.768099 \r\nL 118.812751 41.44127 \r\nL 120.141903 43.427313 \r\nL 121.471055 45.744247 \r\nL 122.800207 48.401894 \r\nL 124.129359 51.394723 \r\nL 126.787663 58.266038 \r\nL 130.775119 69.899322 \r\nL 134.762575 81.415032 \r\nL 137.420879 88.295061 \r\nL 140.079183 94.2886 \r\nL 142.737487 99.343424 \r\nL 145.395791 103.515403 \r\nL 148.054095 106.974233 \r\nL 154.699855 114.732162 \r\nL 156.029007 116.594392 \r\nL 157.358159 118.706491 \r\nL 158.687311 121.122642 \r\nL 160.016463 123.884621 \r\nL 161.345615 127.016853 \r\nL 162.674767 130.522287 \r\nL 165.333071 138.545216 \r\nL 167.991375 147.520584 \r\nL 173.307983 165.711869 \r\nL 175.966287 173.895388 \r\nL 178.624591 181.273971 \r\nL 181.282895 188.02175 \r\nL 185.270351 197.458424 \r\nL 189.257807 206.329103 \r\nL 191.916111 211.744738 \r\nL 194.574416 216.492931 \r\nL 195.903568 218.550891 \r\nL 197.23272 220.380856 \r\nL 198.561872 221.988355 \r\nL 201.220176 224.649624 \r\nL 205.207632 228.122852 \r\nL 206.536784 229.438911 \r\nL 207.865936 230.951487 \r\nL 209.195088 232.709229 \r\nL 210.52424 234.738332 \r\nL 211.853392 237.040584 \r\nL 214.511696 242.360513 \r\nL 218.499152 251.384077 \r\nL 222.486608 260.448717 \r\nL 226.474064 268.86784 \r\nL 230.46152 276.589032 \r\nL 233.119824 281.338045 \r\nL 235.778128 285.685361 \r\nL 238.436432 289.533709 \r\nL 241.094736 292.818786 \r\nL 243.75304 295.546346 \r\nL 246.411344 297.800455 \r\nL 249.069648 299.723473 \r\nL 262.361168 308.494204 \r\nL 265.019472 310.103023 \r\nL 267.677776 311.472685 \r\nL 270.33608 312.558253 \r\nL 272.994384 313.382686 \r\nL 276.98184 314.302898 \r\nL 283.6276 315.560624 \r\nL 287.615056 316.073175 \r\nL 290.27336 316.174281 \r\nL 292.931664 316.068939 \r\nL 299.577424 315.615257 \r\nL 302.235728 315.730919 \r\nL 304.894032 316.104958 \r\nL 308.881488 316.970282 \r\nL 312.868944 317.822849 \r\nL 316.8564 318.39011 \r\nL 320.843856 318.663719 \r\nL 324.831312 318.762357 \r\nL 324.831312 318.762357 \r\n\" style=\"fill:none;stroke:#4c72b0;stroke-linecap:round;stroke-width:1.5;\"/>\r\n   </g>\r\n   <g id=\"patch_3\">\r\n    <path d=\"M 47.105 318.796065 \r\nL 47.105 21.789375 \r\n\" style=\"fill:none;stroke:#ffffff;stroke-linecap:square;stroke-linejoin:miter;stroke-width:1.25;\"/>\r\n   </g>\r\n   <g id=\"patch_4\">\r\n    <path d=\"M 47.105 318.796065 \r\nL 338.056375 318.796065 \r\n\" style=\"fill:none;stroke:#ffffff;stroke-linecap:square;stroke-linejoin:miter;stroke-width:1.25;\"/>\r\n   </g>\r\n   <g id=\"text_14\">\r\n    <!-- Age -->\r\n    <g style=\"fill:#262626;\" transform=\"translate(181.905375 15.789375)scale(0.12 -0.12)\">\r\n     <use xlink:href=\"#ArialMT-65\"/>\r\n     <use x=\"66.699219\" xlink:href=\"#ArialMT-103\"/>\r\n     <use x=\"122.314453\" xlink:href=\"#ArialMT-101\"/>\r\n    </g>\r\n   </g>\r\n  </g>\r\n  <g id=\"legend_1\">\r\n   <g id=\"text_15\">\r\n    <!-- prediction -->\r\n    <g style=\"fill:#262626;\" transform=\"translate(355.670625 167.877798)scale(0.12 -0.12)\">\r\n     <defs>\r\n      <path d=\"M 6.59375 -19.875 \r\nL 6.59375 51.859375 \r\nL 14.59375 51.859375 \r\nL 14.59375 45.125 \r\nQ 17.4375 49.078125 21 51.046875 \r\nQ 24.5625 53.03125 29.640625 53.03125 \r\nQ 36.28125 53.03125 41.359375 49.609375 \r\nQ 46.4375 46.1875 49.015625 39.953125 \r\nQ 51.609375 33.734375 51.609375 26.3125 \r\nQ 51.609375 18.359375 48.75 11.984375 \r\nQ 45.90625 5.609375 40.453125 2.21875 \r\nQ 35.015625 -1.171875 29 -1.171875 \r\nQ 24.609375 -1.171875 21.109375 0.6875 \r\nQ 17.625 2.546875 15.375 5.375 \r\nL 15.375 -19.875 \r\nz\r\nM 14.546875 25.640625 \r\nQ 14.546875 15.625 18.59375 10.84375 \r\nQ 22.65625 6.0625 28.421875 6.0625 \r\nQ 34.28125 6.0625 38.453125 11.015625 \r\nQ 42.625 15.96875 42.625 26.375 \r\nQ 42.625 36.28125 38.546875 41.203125 \r\nQ 34.46875 46.140625 28.8125 46.140625 \r\nQ 23.1875 46.140625 18.859375 40.890625 \r\nQ 14.546875 35.640625 14.546875 25.640625 \r\nz\r\n\" id=\"ArialMT-112\"/>\r\n      <path d=\"M 6.5 0 \r\nL 6.5 51.859375 \r\nL 14.40625 51.859375 \r\nL 14.40625 44 \r\nQ 17.4375 49.515625 20 51.265625 \r\nQ 22.5625 53.03125 25.640625 53.03125 \r\nQ 30.078125 53.03125 34.671875 50.203125 \r\nL 31.640625 42.046875 \r\nQ 28.421875 43.953125 25.203125 43.953125 \r\nQ 22.3125 43.953125 20.015625 42.21875 \r\nQ 17.71875 40.484375 16.75 37.40625 \r\nQ 15.28125 32.71875 15.28125 27.15625 \r\nL 15.28125 0 \r\nz\r\n\" id=\"ArialMT-114\"/>\r\n      <path d=\"M 40.234375 0 \r\nL 40.234375 6.546875 \r\nQ 35.296875 -1.171875 25.734375 -1.171875 \r\nQ 19.53125 -1.171875 14.328125 2.25 \r\nQ 9.125 5.671875 6.265625 11.796875 \r\nQ 3.421875 17.921875 3.421875 25.875 \r\nQ 3.421875 33.640625 6 39.96875 \r\nQ 8.59375 46.296875 13.765625 49.65625 \r\nQ 18.953125 53.03125 25.34375 53.03125 \r\nQ 30.03125 53.03125 33.6875 51.046875 \r\nQ 37.359375 49.078125 39.65625 45.90625 \r\nL 39.65625 71.578125 \r\nL 48.390625 71.578125 \r\nL 48.390625 0 \r\nz\r\nM 12.453125 25.875 \r\nQ 12.453125 15.921875 16.640625 10.984375 \r\nQ 20.84375 6.0625 26.5625 6.0625 \r\nQ 32.328125 6.0625 36.34375 10.765625 \r\nQ 40.375 15.484375 40.375 25.140625 \r\nQ 40.375 35.796875 36.265625 40.765625 \r\nQ 32.171875 45.75 26.171875 45.75 \r\nQ 20.3125 45.75 16.375 40.96875 \r\nQ 12.453125 36.1875 12.453125 25.875 \r\nz\r\n\" id=\"ArialMT-100\"/>\r\n      <path d=\"M 40.4375 19 \r\nL 49.078125 17.875 \r\nQ 47.65625 8.9375 41.8125 3.875 \r\nQ 35.984375 -1.171875 27.484375 -1.171875 \r\nQ 16.84375 -1.171875 10.375 5.78125 \r\nQ 3.90625 12.75 3.90625 25.734375 \r\nQ 3.90625 34.125 6.6875 40.421875 \r\nQ 9.46875 46.734375 15.15625 49.875 \r\nQ 20.84375 53.03125 27.546875 53.03125 \r\nQ 35.984375 53.03125 41.359375 48.75 \r\nQ 46.734375 44.484375 48.25 36.625 \r\nL 39.703125 35.296875 \r\nQ 38.484375 40.53125 35.375 43.15625 \r\nQ 32.28125 45.796875 27.875 45.796875 \r\nQ 21.234375 45.796875 17.078125 41.03125 \r\nQ 12.9375 36.28125 12.9375 25.984375 \r\nQ 12.9375 15.53125 16.9375 10.796875 \r\nQ 20.953125 6.0625 27.390625 6.0625 \r\nQ 32.5625 6.0625 36.03125 9.234375 \r\nQ 39.5 12.40625 40.4375 19 \r\nz\r\n\" id=\"ArialMT-99\"/>\r\n      <path d=\"M 3.328125 25.921875 \r\nQ 3.328125 40.328125 11.328125 47.265625 \r\nQ 18.015625 53.03125 27.640625 53.03125 \r\nQ 38.328125 53.03125 45.109375 46.015625 \r\nQ 51.90625 39.015625 51.90625 26.65625 \r\nQ 51.90625 16.65625 48.90625 10.90625 \r\nQ 45.90625 5.171875 40.15625 2 \r\nQ 34.421875 -1.171875 27.640625 -1.171875 \r\nQ 16.75 -1.171875 10.03125 5.8125 \r\nQ 3.328125 12.796875 3.328125 25.921875 \r\nz\r\nM 12.359375 25.921875 \r\nQ 12.359375 15.96875 16.703125 11.015625 \r\nQ 21.046875 6.0625 27.640625 6.0625 \r\nQ 34.1875 6.0625 38.53125 11.03125 \r\nQ 42.875 16.015625 42.875 26.21875 \r\nQ 42.875 35.84375 38.5 40.796875 \r\nQ 34.125 45.75 27.640625 45.75 \r\nQ 21.046875 45.75 16.703125 40.8125 \r\nQ 12.359375 35.890625 12.359375 25.921875 \r\nz\r\n\" id=\"ArialMT-111\"/>\r\n     </defs>\r\n     <use xlink:href=\"#ArialMT-112\"/>\r\n     <use x=\"55.615234\" xlink:href=\"#ArialMT-114\"/>\r\n     <use x=\"88.916016\" xlink:href=\"#ArialMT-101\"/>\r\n     <use x=\"144.53125\" xlink:href=\"#ArialMT-100\"/>\r\n     <use x=\"200.146484\" xlink:href=\"#ArialMT-105\"/>\r\n     <use x=\"222.363281\" xlink:href=\"#ArialMT-99\"/>\r\n     <use x=\"272.363281\" xlink:href=\"#ArialMT-116\"/>\r\n     <use x=\"300.146484\" xlink:href=\"#ArialMT-105\"/>\r\n     <use x=\"322.363281\" xlink:href=\"#ArialMT-111\"/>\r\n     <use x=\"377.978516\" xlink:href=\"#ArialMT-110\"/>\r\n    </g>\r\n   </g>\r\n   <g id=\"line2d_14\">\r\n    <path d=\"M 363.225859 179.786392 \r\nL 385.225859 179.786392 \r\n\" style=\"fill:none;stroke:#4c72b0;stroke-linecap:round;stroke-width:1.5;\"/>\r\n   </g>\r\n   <g id=\"line2d_15\"/>\r\n   <g id=\"text_16\">\r\n    <!-- 0 -->\r\n    <g style=\"fill:#262626;\" transform=\"translate(394.025859 183.636392)scale(0.11 -0.11)\">\r\n     <use xlink:href=\"#ArialMT-48\"/>\r\n    </g>\r\n   </g>\r\n   <g id=\"line2d_16\">\r\n    <path d=\"M 363.225859 195.346236 \r\nL 385.225859 195.346236 \r\n\" style=\"fill:none;stroke:#dd8452;stroke-linecap:round;stroke-width:1.5;\"/>\r\n   </g>\r\n   <g id=\"line2d_17\"/>\r\n   <g id=\"text_17\">\r\n    <!-- 1 -->\r\n    <g style=\"fill:#262626;\" transform=\"translate(394.025859 199.196236)scale(0.11 -0.11)\">\r\n     <use xlink:href=\"#ArialMT-49\"/>\r\n    </g>\r\n   </g>\r\n  </g>\r\n </g>\r\n <defs>\r\n  <clipPath id=\"p1291d9d801\">\r\n   <rect height=\"297.00669\" width=\"290.951375\" x=\"47.105\" y=\"21.789375\"/>\r\n  </clipPath>\r\n </defs>\r\n</svg>\r\n",
      "image/png": "[encoded data removed]"
     },
     "metadata": {}
    }
   ],
   "source": [
    "plt.figure(figsize=(10, 8))\n",
    "sns.displot(prova, x='Age', kind=\"kde\", hue='prediction')\n",
    "plt.title('Age')\n",
    "plt.show()"
   ]
  },
  {
   "cell_type": "markdown",
   "metadata": {},
   "source": [
    "Cross validation"
   ]
  },
  {
   "cell_type": "code",
   "execution_count": 32,
   "metadata": {},
   "outputs": [],
   "source": [
    "# CROSS VALIDATION\n",
    "\n",
    "X = newland_fs.drop(['Income'], axis=1)\n",
    "Y = newland_fs['Income']\n",
    "\n",
    "# Standardization of the variables with the robust scaler\n",
    "# robust = RobustScaler().fit(X)\n",
    "# X_robust = pd.DataFrame(robust.transform(X), columns=X.columns, index = X.index)\n",
    "# X = X_robust"
   ]
  },
  {
   "cell_type": "code",
   "execution_count": 34,
   "metadata": {},
   "outputs": [],
   "source": [
    "new_metric = ['Years of Education', 'Working Hours per week',\n",
    "       'Money Received', 'Ticket Price', 'Age']"
   ]
  },
  {
   "cell_type": "code",
   "execution_count": 40,
   "metadata": {},
   "outputs": [],
   "source": [
    "# Standardization of the variables with the robust scaler\n",
    "robust = RobustScaler().fit(X[new_metric])\n",
    "robust_train = robust.transform(X[new_metric])\n",
    "# robust_val = robust.transform(X_validation[new_metric])\n",
    "X_train_robust = X.copy()\n",
    "X_train_robust[new_metric] = robust_train\n",
    "# X_validation_robust = X_validation.copy()\n",
    "# X_validation_robust[new_metric] = robust_val\n",
    "\n",
    "X_train = X_train_robust\n",
    "# X_validation = X_validation_robust"
   ]
  },
  {
   "cell_type": "markdown",
   "metadata": {},
   "source": [
    "Hist-Gradient Boosting "
   ]
  },
  {
   "cell_type": "code",
   "execution_count": 42,
   "metadata": {},
   "outputs": [],
   "source": [
    "X = X_train.copy()"
   ]
  },
  {
   "cell_type": "code",
   "execution_count": 44,
   "metadata": {},
   "outputs": [
    {
     "output_type": "stream",
     "name": "stdout",
     "text": [
      "Train: 0.8725150106981279\nTest: 0.8676141813258905\n"
     ]
    }
   ],
   "source": [
    "# Integer array like for categorical features (encoded)\n",
    "is_categorical=[0,6,7,8,9,10,11] \n",
    "\n",
    "# Hist gradient boosting, testing some parameters\n",
    "\n",
    "hgb_model =  HistGradientBoostingClassifier(loss = 'binary_crossentropy', max_leaf_nodes = 20, min_samples_leaf = 7, max_bins = 150, learning_rate= 0.3, max_iter=135, categorical_features=is_categorical, max_depth=3, random_state=0)\n",
    "\n",
    "kf = StratifiedKFold(n_splits=10)\n",
    "avg_score(hgb_model,kf, X, Y)"
   ]
  },
  {
   "cell_type": "code",
   "execution_count": 266,
   "metadata": {},
   "outputs": [],
   "source": [
    "# # Grid search \n",
    "\n",
    "# hgb_model =  HistGradientBoostingClassifier(loss = 'binary_crossentropy', max_leaf_nodes = 20, min_samples_leaf = 7, max_bins = 150, learning_rate= 0.3, max_iter=135, categorical_features=is_categorical)\n",
    "\n",
    "# parameters_HGB = {'max_depth' : [None, 3, 5],\n",
    "# 'random_state' : [None, 0, 42]}\n",
    "\n",
    "# clf_hgb = GridSearchCV(hgb_model, parameters_HGB, scoring = 'f1_micro', cv=10, refit = True)\n",
    "# clf_hgb.fit(X, Y)\n",
    "# clf_hgb.best_params_"
   ]
  },
  {
   "source": [
    "## 10. Hyper-Parameters tuning"
   ],
   "cell_type": "markdown",
   "metadata": {}
  },
  {
   "cell_type": "code",
   "execution_count": 62,
   "metadata": {},
   "outputs": [],
   "source": [
    "# num_estimators = list(range(1,100))\n",
    "# calculate_f1(num_estimators, X_train, X_validation, y_train, y_validation,'Number of estimators')"
   ]
  },
  {
   "cell_type": "code",
   "execution_count": 63,
   "metadata": {},
   "outputs": [],
   "source": [
    "# learning_rate = list(np.linspace(0.1, 0.9, 9, endpoint=True))\n",
    "# calculate_f1(learning_rate, X_train, X_validation, y_train, y_validation,'Learning Rate')"
   ]
  },
  {
   "cell_type": "code",
   "execution_count": 231,
   "metadata": {},
   "outputs": [],
   "source": [
    "# max_bins = list(range(2,255))\n",
    "# calculate_f1(max_bins, X_train, X_validation, y_train, y_validation,'Max Bins')"
   ]
  },
  {
   "cell_type": "markdown",
   "metadata": {},
   "source": [
    "## 11. Model assessment"
   ]
  },
  {
   "cell_type": "code",
   "execution_count": 309,
   "metadata": {},
   "outputs": [],
   "source": [
    "X_test_HGB = X_test.copy()\n",
    "\n",
    "\n",
    "feature_selection = ['Lives with_Wife / Husband',\n",
    " 'Money Received',\n",
    " 'Years of Education',\n",
    " 'Ticket Price',\n",
    " 'Age',\n",
    " 'Working Hours per week',\n",
    " 'Role_Management',\n",
    " 'Role_Professor',\n",
    " 'Role_Agriculture and Fishing',\n",
    " 'Gender',\n",
    " 'Employment Sector_Self-Employed (Individual)',\n",
    " 'Role_Other services']\n",
    " \n",
    " \n",
    " # Features selected\n",
    "X_test_HGB = X_test_HGB[feature_selection]\n",
    "\n",
    "\n",
    "# Standardization of the variables with the robust scaler\n",
    "robust = RobustScaler().fit(X_test_HGB)\n",
    "X_test_robust = pd.DataFrame(robust.transform(X_test_HGB), columns=X_test_HGB.columns, index = X_test_HGB.index)\n",
    "X_test_HGB = X_test_robust"
   ]
  },
  {
   "cell_type": "code",
   "execution_count": 310,
   "metadata": {},
   "outputs": [
    {
     "output_type": "execute_result",
     "data": {
      "text/plain": [
       "87.679"
      ]
     },
     "metadata": {},
     "execution_count": 310
    }
   ],
   "source": [
    "# Number 3\n",
    "y_prediction = hgb_model.predict(X_test_HGB)  \n",
    "HistGradient_F1 = round(f1_score(y_true = y_test, y_pred = y_prediction, average='micro')*100, 3)\n",
    "HistGradient_F1"
   ]
  },
  {
   "cell_type": "markdown",
   "metadata": {},
   "source": [
    "## 12. Prediction for Kaggle"
   ]
  },
  {
   "cell_type": "code",
   "execution_count": 45,
   "metadata": {},
   "outputs": [],
   "source": [
    "test = pd.read_excel('Test.xlsx')\n",
    "\n",
    "# for the test set\n",
    "newland = test.copy()"
   ]
  },
  {
   "cell_type": "code",
   "execution_count": 46,
   "metadata": {},
   "outputs": [],
   "source": [
    "newland['Gender'] = newland['Name'].str.split(n=2,expand=True).rename(columns={0:'Gender'}).drop(columns=[1,2])\n",
    "newland['Gender'] = newland['Gender'].replace('Mr.', 0)\n",
    "newland['Gender'] = newland['Gender'].replace('Mrs.', 1)\n",
    "newland['Gender'] = newland['Gender'].replace('Miss', 1)\n",
    "\n",
    "newland['year_of_birth'] = newland['Birthday'].map(lambda x: int(x[-4:]))\n",
    "newland['Age'] = newland['year_of_birth'].map(lambda x: 2048 - x)\n",
    "del newland['year_of_birth']\n",
    "\n",
    "del newland['Name']\n",
    "del newland['Birthday']"
   ]
  },
  {
   "cell_type": "code",
   "execution_count": 47,
   "metadata": {},
   "outputs": [],
   "source": [
    "# Creating a copy of the dataset\n",
    "newland_labels = newland.copy()\n",
    "\n",
    "\n",
    "# Encoding the variable Education Level manually (it will be numerical because it's categorical but ordinal)\n",
    "newland_labels['Education Level'] = newland_labels['Education Level'].replace(['Preschool',\n",
    "'Primary School',\n",
    "'Middle School - 1st Cycle',\n",
    "'Middle School - 2nd Cycle',\n",
    "'Middle School Complete',\n",
    "'High School - 1st Cycle',\n",
    "'High School - 2nd Cycle',\n",
    "'Professional School',\n",
    "'High School Complete',\n",
    "'Professional School + PostGraduation',\n",
    "'High School + PostGraduation',\n",
    "'Bachelors',\n",
    "'Bachelors + PostGraduation',\n",
    "'Masters',\n",
    "'Masters + PostGraduation',\n",
    "'PhD'],[1,2,3,4,5,6,7,8,9,10,11,12,13,14,15,16])\n",
    "\n",
    "# Encoding manually\n",
    "# Replacing the values in some labels manually\n",
    "\n",
    "newland_labels['Native Continent'] = newland_labels['Native Continent'].replace(['Asia', 'America', 'Oceania'], 'Other')\n",
    "\n",
    "newland_labels['Marital Status'] = newland_labels['Marital Status'].replace(['Married - Spouse Missing', 'Separated', 'Widow', 'Married - Spouse in the Army'], 'Other')\n",
    "\n",
    "newland_labels['Lives with'] = newland_labels['Lives with'].replace(['Wife', 'Husband'], 'Wife / Husband')\n",
    "\n",
    "newland_labels['Base Area'] = newland_labels['Base Area'].replace(['Auchenshuggle', 'Sharnwick', 'Laewaes',\n",
    "       'MillerVille', 'Fanfoss', 'Wigston', 'Aerilon', 'Watford',\n",
    "       \"Knife's Edge\", 'Lanercost', 'Bellmoral', 'Bellenau', 'Butterpond',\n",
    "       'Laenteglos', 'Tranmere', 'Eelry', 'Alverton', 'Pran', 'Willesden',\n",
    "       \"King's Watch\", 'Kald', 'Kirkwall', \"Fool's March\",\n",
    "       'Middlesbrough', 'Orilon', 'Aroonshire', 'Aberuthven', 'Lewes',\n",
    "       'Marnmouth', 'Mensfield', 'Sharpton', 'Cherrytown', 'Redwick Bush',\n",
    "       'Drumchapel', 'Carlisle', 'Conriston', 'Woodpine', 'Ironforge'], 'Other')\n",
    "\n",
    "newland_labels['Employment Sector'] = newland_labels['Employment Sector'].replace(['Private Sector - Others',\n",
    "       'Self-Employed (Company)', 'Public Sector - Government',\n",
    "       'Unemployed', 'Never Worked'], 'Other')\n",
    "\n",
    "\n",
    "newland = newland_labels.copy()"
   ]
  },
  {
   "cell_type": "code",
   "execution_count": 48,
   "metadata": {},
   "outputs": [],
   "source": [
    "# one hot encoder\n",
    "\n",
    "newland_ohc = newland.copy()\n",
    "\n",
    "\n",
    "# Updating metric and non-metric features\n",
    "# Education level now is a metric feature\n",
    "metric_features = ['Years of Education','Working Hours per week', 'Education Level','Money Received','Ticket Price', 'Age', 'Sex', 'Income']\n",
    "non_metric_features = ['Native Continent','Marital Status','Lives with','Base Area','Employment Sector','Role']\n",
    "\n",
    "ohc = OneHotEncoder(sparse=False)\n",
    "ohc_feat = ohc.fit_transform(newland_ohc[non_metric_features])\n",
    "ohc_feat_names = ohc.get_feature_names(non_metric_features)\n",
    "ohc_df = pd.DataFrame(ohc_feat, index=newland_ohc.index, columns=ohc_feat_names)\n",
    "\n",
    "newland_ohc1 = pd.concat([newland_ohc.drop(columns=non_metric_features), ohc_df], axis=1)\n",
    "\n",
    "newland = newland_ohc1.copy()"
   ]
  },
  {
   "cell_type": "code",
   "execution_count": 49,
   "metadata": {},
   "outputs": [],
   "source": [
    "# Missing values\n",
    "# \n",
    "# Defining the variables to change to nan (based on the ?)\n",
    "Base_Area_to_replace = ['Base Area_Northbury','Base Area_Other']\n",
    "Employment_Sector_to_replace = ['Employment Sector_Other','Employment Sector_Private Sector - Services ','Employment Sector_Public Sector - Others','Employment Sector_Self-Employed (Individual)']\n",
    "Role_to_replace = ['Role_Administratives', 'Role_Agriculture and Fishing', 'Role_Army','Role_Cleaners & Handlers', 'Role_Household Services', 'Role_IT','Role_Machine Operators & Inspectors', 'Role_Management','Role_Other services', 'Role_Professor', 'Role_Repair & constructions','Role_Sales', 'Role_Security', 'Role_Transports']\n",
    "\n",
    "# Defining the nan values\n",
    "newland.loc[newland['Base Area_?'] == 1.0, Base_Area_to_replace] = np.nan\n",
    "newland.loc[newland['Employment Sector_?'] == 1.0, Employment_Sector_to_replace] = np.nan\n",
    "newland.loc[newland['Role_?'] == 1.0, Role_to_replace] = np.nan\n",
    "\n",
    "# Dropping the variables with the question mark\n",
    "newland.drop(columns=['Base Area_?','Employment Sector_?','Role_?'], inplace = True)\n"
   ]
  },
  {
   "cell_type": "code",
   "execution_count": 50,
   "metadata": {},
   "outputs": [],
   "source": [
    "X_test = newland.copy()\n",
    "# Setting the index in the dataset\n",
    "X_test = X_test.set_index('CITIZEN_ID')"
   ]
  },
  {
   "cell_type": "code",
   "execution_count": 51,
   "metadata": {},
   "outputs": [],
   "source": [
    "# Feature selection\n",
    "# \n",
    "feature_selection = ['Lives with_Wife / Husband',\n",
    " 'Money Received',\n",
    " 'Years of Education',\n",
    " 'Ticket Price',\n",
    " 'Age',\n",
    " 'Working Hours per week',\n",
    " 'Role_Management',\n",
    " 'Role_Professor',\n",
    " 'Role_Agriculture and Fishing',\n",
    " 'Gender',\n",
    " 'Employment Sector_Self-Employed (Individual)',\n",
    " 'Role_Other services']\n",
    "\n",
    "\n",
    "X_test = X_test[feature_selection]\n",
    "\n",
    "# Standardization of the variables with the robust scaler\n",
    "# robust = RobustScaler().fit(X_test)\n",
    "# X_test_robust = pd.DataFrame(robust.transform(X_test), columns=X_test.columns, index = X_test.index)\n",
    "# X_test = X_test_robust"
   ]
  },
  {
   "cell_type": "code",
   "execution_count": 53,
   "metadata": {},
   "outputs": [],
   "source": [
    "# Standardization of the variables with the robust scaler\n",
    "robust = RobustScaler().fit(X_test[new_metric])\n",
    "robust_train = robust.transform(X_test[new_metric])\n",
    "\n",
    "X_train_robust = X_test.copy()\n",
    "X_train_robust[new_metric] = robust_train\n",
    "\n",
    "X_test = X_train_robust\n"
   ]
  },
  {
   "cell_type": "code",
   "execution_count": 57,
   "metadata": {},
   "outputs": [],
   "source": [
    "y_prediction = hgb_model.predict(X_test)  \n",
    "y_prediction = y_prediction.astype(int)\n",
    "X_test.index = X_test.index.astype(int)"
   ]
  },
  {
   "cell_type": "code",
   "execution_count": 58,
   "metadata": {},
   "outputs": [],
   "source": [
    "submission = pd.DataFrame({'CITIZEN_ID': X_test.index, 'Income': y_prediction})\n",
    "\n",
    "filename = 'prediction_002.csv'\n",
    "submission.to_csv(filename, index=False)"
   ]
  },
  {
   "cell_type": "code",
   "execution_count": 59,
   "metadata": {},
   "outputs": [
    {
     "output_type": "execute_result",
     "data": {
      "text/plain": [
       "       CITIZEN_ID  Income\n",
       "0           34886       1\n",
       "1           34887       0\n",
       "2           34888       1\n",
       "3           34889       0\n",
       "4           34890       1\n",
       "...           ...     ...\n",
       "10095       44981       1\n",
       "10096       44982       1\n",
       "10097       44983       0\n",
       "10098       44984       0\n",
       "10099       44985       0\n",
       "\n",
       "[10100 rows x 2 columns]"
      ],
      "text/html": "<div>\n<style scoped>\n    .dataframe tbody tr th:only-of-type {\n        vertical-align: middle;\n    }\n\n    .dataframe tbody tr th {\n        vertical-align: top;\n    }\n\n    .dataframe thead th {\n        text-align: right;\n    }\n</style>\n<table border=\"1\" class=\"dataframe\">\n  <thead>\n    <tr style=\"text-align: right;\">\n      <th></th>\n      <th>CITIZEN_ID</th>\n      <th>Income</th>\n    </tr>\n  </thead>\n  <tbody>\n    <tr>\n      <th>0</th>\n      <td>34886</td>\n      <td>1</td>\n    </tr>\n    <tr>\n      <th>1</th>\n      <td>34887</td>\n      <td>0</td>\n    </tr>\n    <tr>\n      <th>2</th>\n      <td>34888</td>\n      <td>1</td>\n    </tr>\n    <tr>\n      <th>3</th>\n      <td>34889</td>\n      <td>0</td>\n    </tr>\n    <tr>\n      <th>4</th>\n      <td>34890</td>\n      <td>1</td>\n    </tr>\n    <tr>\n      <th>...</th>\n      <td>...</td>\n      <td>...</td>\n    </tr>\n    <tr>\n      <th>10095</th>\n      <td>44981</td>\n      <td>1</td>\n    </tr>\n    <tr>\n      <th>10096</th>\n      <td>44982</td>\n      <td>1</td>\n    </tr>\n    <tr>\n      <th>10097</th>\n      <td>44983</td>\n      <td>0</td>\n    </tr>\n    <tr>\n      <th>10098</th>\n      <td>44984</td>\n      <td>0</td>\n    </tr>\n    <tr>\n      <th>10099</th>\n      <td>44985</td>\n      <td>0</td>\n    </tr>\n  </tbody>\n</table>\n<p>10100 rows × 2 columns</p>\n</div>"
     },
     "metadata": {},
     "execution_count": 59
    }
   ],
   "source": [
    "submission"
   ]
  }
 ],
 "metadata": {
  "kernelspec": {
   "display_name": "Python 3",
   "language": "python",
   "name": "python3"
  },
  "language_info": {
   "codemirror_mode": {
    "name": "ipython",
    "version": 3
   },
   "file_extension": ".py",
   "mimetype": "text/x-python",
   "name": "python",
   "nbconvert_exporter": "python",
   "pygments_lexer": "ipython3",
   "version": "3.8.5-final"
  }
 },
 "nbformat": 4,
 "nbformat_minor": 4
}